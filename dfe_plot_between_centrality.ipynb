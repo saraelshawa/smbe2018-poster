{
 "cells": [
  {
   "cell_type": "code",
   "execution_count": 40,
   "metadata": {},
   "outputs": [],
   "source": [
    "library(dplyr)\n",
    "library(ggplot2)\n",
    "library(readr)\n",
    "library(magrittr)"
   ]
  },
  {
   "cell_type": "code",
   "execution_count": 41,
   "metadata": {},
   "outputs": [
    {
     "name": "stderr",
     "output_type": "stream",
     "text": [
      "Parsed with column specification:\n",
      "cols(\n",
      "  X1 = col_double(),\n",
      "  X2 = col_double(),\n",
      "  X3 = col_double(),\n",
      "  X4 = col_double(),\n",
      "  X5 = col_double(),\n",
      "  X6 = col_double(),\n",
      "  X7 = col_double(),\n",
      "  X8 = col_double(),\n",
      "  X9 = col_double(),\n",
      "  X10 = col_double(),\n",
      "  X11 = col_double(),\n",
      "  X12 = col_double(),\n",
      "  X13 = col_character()\n",
      ")\n",
      "Parsed with column specification:\n",
      "cols(\n",
      "  X1 = col_double(),\n",
      "  X2 = col_double(),\n",
      "  X3 = col_double(),\n",
      "  X4 = col_double(),\n",
      "  X5 = col_double(),\n",
      "  X6 = col_double(),\n",
      "  X7 = col_double(),\n",
      "  X8 = col_double(),\n",
      "  X9 = col_double(),\n",
      "  X10 = col_double(),\n",
      "  X11 = col_double(),\n",
      "  X12 = col_double(),\n",
      "  X13 = col_character()\n",
      ")\n"
     ]
    },
    {
     "data": {
      "text/html": [
       "<ol class=list-inline>\n",
       "\t<li>101</li>\n",
       "\t<li>13</li>\n",
       "</ol>\n"
      ],
      "text/latex": [
       "\\begin{enumerate*}\n",
       "\\item 101\n",
       "\\item 13\n",
       "\\end{enumerate*}\n"
      ],
      "text/markdown": [
       "1. 101\n",
       "2. 13\n",
       "\n",
       "\n"
      ],
      "text/plain": [
       "[1] 101  13"
      ]
     },
     "metadata": {},
     "output_type": "display_data"
    },
    {
     "data": {
      "text/html": [
       "<ol class=list-inline>\n",
       "\t<li>101</li>\n",
       "\t<li>13</li>\n",
       "</ol>\n"
      ],
      "text/latex": [
       "\\begin{enumerate*}\n",
       "\\item 101\n",
       "\\item 13\n",
       "\\end{enumerate*}\n"
      ],
      "text/markdown": [
       "1. 101\n",
       "2. 13\n",
       "\n",
       "\n"
      ],
      "text/plain": [
       "[1] 101  13"
      ]
     },
     "metadata": {},
     "output_type": "display_data"
    },
    {
     "data": {
      "text/html": [
       "<table>\n",
       "<thead><tr><th scope=col>X1</th><th scope=col>X2</th><th scope=col>X3</th><th scope=col>X4</th><th scope=col>X5</th><th scope=col>X6</th><th scope=col>X7</th><th scope=col>X8</th><th scope=col>X9</th><th scope=col>X10</th><th scope=col>X11</th><th scope=col>X12</th><th scope=col>X13</th></tr></thead>\n",
       "<tbody>\n",
       "\t<tr><td>0       </td><td>1       </td><td>0.226994</td><td>1       </td><td>10      </td><td>0.064960</td><td>10      </td><td>100     </td><td>0.083547</td><td>100     </td><td>-99     </td><td>0.624499</td><td>NA      </td></tr>\n",
       "\t<tr><td>0       </td><td>1       </td><td>0.171308</td><td>1       </td><td>10      </td><td>0.051011</td><td>10      </td><td>100     </td><td>0.066201</td><td>100     </td><td>-99     </td><td>0.711480</td><td>NA      </td></tr>\n",
       "\t<tr><td>0       </td><td>1       </td><td>0.164091</td><td>1       </td><td>10      </td><td>0.058642</td><td>10      </td><td>100     </td><td>0.079597</td><td>100     </td><td>-99     </td><td>0.697670</td><td>NA      </td></tr>\n",
       "\t<tr><td>0       </td><td>1       </td><td>0.236975</td><td>1       </td><td>10      </td><td>0.035485</td><td>10      </td><td>100     </td><td>0.040798</td><td>100     </td><td>-99     </td><td>0.686742</td><td>NA      </td></tr>\n",
       "\t<tr><td>0       </td><td>1       </td><td>0.220208</td><td>1       </td><td>10      </td><td>0.086711</td><td>10      </td><td>100     </td><td>0.120780</td><td>100     </td><td>-99     </td><td>0.572301</td><td>NA      </td></tr>\n",
       "\t<tr><td>0       </td><td>1       </td><td>0.222859</td><td>1       </td><td>10      </td><td>0.059714</td><td>10      </td><td>100     </td><td>0.075713</td><td>100     </td><td>-99     </td><td>0.641715</td><td>NA      </td></tr>\n",
       "</tbody>\n",
       "</table>\n"
      ],
      "text/latex": [
       "\\begin{tabular}{r|lllllllllllll}\n",
       " X1 & X2 & X3 & X4 & X5 & X6 & X7 & X8 & X9 & X10 & X11 & X12 & X13\\\\\n",
       "\\hline\n",
       "\t 0        & 1        & 0.226994 & 1        & 10       & 0.064960 & 10       & 100      & 0.083547 & 100      & -99      & 0.624499 & NA      \\\\\n",
       "\t 0        & 1        & 0.171308 & 1        & 10       & 0.051011 & 10       & 100      & 0.066201 & 100      & -99      & 0.711480 & NA      \\\\\n",
       "\t 0        & 1        & 0.164091 & 1        & 10       & 0.058642 & 10       & 100      & 0.079597 & 100      & -99      & 0.697670 & NA      \\\\\n",
       "\t 0        & 1        & 0.236975 & 1        & 10       & 0.035485 & 10       & 100      & 0.040798 & 100      & -99      & 0.686742 & NA      \\\\\n",
       "\t 0        & 1        & 0.220208 & 1        & 10       & 0.086711 & 10       & 100      & 0.120780 & 100      & -99      & 0.572301 & NA      \\\\\n",
       "\t 0        & 1        & 0.222859 & 1        & 10       & 0.059714 & 10       & 100      & 0.075713 & 100      & -99      & 0.641715 & NA      \\\\\n",
       "\\end{tabular}\n"
      ],
      "text/markdown": [
       "\n",
       "X1 | X2 | X3 | X4 | X5 | X6 | X7 | X8 | X9 | X10 | X11 | X12 | X13 | \n",
       "|---|---|---|---|---|---|\n",
       "| 0        | 1        | 0.226994 | 1        | 10       | 0.064960 | 10       | 100      | 0.083547 | 100      | -99      | 0.624499 | NA       | \n",
       "| 0        | 1        | 0.171308 | 1        | 10       | 0.051011 | 10       | 100      | 0.066201 | 100      | -99      | 0.711480 | NA       | \n",
       "| 0        | 1        | 0.164091 | 1        | 10       | 0.058642 | 10       | 100      | 0.079597 | 100      | -99      | 0.697670 | NA       | \n",
       "| 0        | 1        | 0.236975 | 1        | 10       | 0.035485 | 10       | 100      | 0.040798 | 100      | -99      | 0.686742 | NA       | \n",
       "| 0        | 1        | 0.220208 | 1        | 10       | 0.086711 | 10       | 100      | 0.120780 | 100      | -99      | 0.572301 | NA       | \n",
       "| 0        | 1        | 0.222859 | 1        | 10       | 0.059714 | 10       | 100      | 0.075713 | 100      | -99      | 0.641715 | NA       | \n",
       "\n",
       "\n"
      ],
      "text/plain": [
       "  X1 X2 X3       X4 X5 X6       X7 X8  X9       X10 X11 X12      X13\n",
       "1 0  1  0.226994 1  10 0.064960 10 100 0.083547 100 -99 0.624499 NA \n",
       "2 0  1  0.171308 1  10 0.051011 10 100 0.066201 100 -99 0.711480 NA \n",
       "3 0  1  0.164091 1  10 0.058642 10 100 0.079597 100 -99 0.697670 NA \n",
       "4 0  1  0.236975 1  10 0.035485 10 100 0.040798 100 -99 0.686742 NA \n",
       "5 0  1  0.220208 1  10 0.086711 10 100 0.120780 100 -99 0.572301 NA \n",
       "6 0  1  0.222859 1  10 0.059714 10 100 0.075713 100 -99 0.641715 NA "
      ]
     },
     "metadata": {},
     "output_type": "display_data"
    },
    {
     "data": {
      "text/html": [
       "<table>\n",
       "<thead><tr><th scope=col>X1</th><th scope=col>X2</th><th scope=col>X3</th><th scope=col>X4</th><th scope=col>X5</th><th scope=col>X6</th><th scope=col>X7</th><th scope=col>X8</th><th scope=col>X9</th><th scope=col>X10</th><th scope=col>X11</th><th scope=col>X12</th><th scope=col>X13</th></tr></thead>\n",
       "<tbody>\n",
       "\t<tr><td>0       </td><td>1       </td><td>0.209375</td><td>1       </td><td>10      </td><td>0.062159</td><td>10      </td><td>100     </td><td>0.080611</td><td>100     </td><td>-99     </td><td>0.647854</td><td>NA      </td></tr>\n",
       "\t<tr><td>0       </td><td>1       </td><td>0.220286</td><td>1       </td><td>10      </td><td>0.055128</td><td>10      </td><td>100     </td><td>0.068925</td><td>100     </td><td>-99     </td><td>0.655661</td><td>NA      </td></tr>\n",
       "\t<tr><td>0       </td><td>1       </td><td>0.221129</td><td>1       </td><td>10      </td><td>0.056743</td><td>10      </td><td>100     </td><td>0.071304</td><td>100     </td><td>-99     </td><td>0.650824</td><td>NA      </td></tr>\n",
       "\t<tr><td>0       </td><td>1       </td><td>0.233102</td><td>1       </td><td>10      </td><td>0.029710</td><td>10      </td><td>100     </td><td>0.033497</td><td>100     </td><td>-99     </td><td>0.703690</td><td>NA      </td></tr>\n",
       "\t<tr><td>0       </td><td>1       </td><td>0.252998</td><td>1       </td><td>10      </td><td>0.030870</td><td>10      </td><td>100     </td><td>0.034637</td><td>100     </td><td>-99     </td><td>0.681495</td><td>NA      </td></tr>\n",
       "\t<tr><td>0       </td><td>1       </td><td>0.220133</td><td>1       </td><td>10      </td><td>0.057253</td><td>10      </td><td>100     </td><td>0.072144</td><td>100     </td><td>-99     </td><td>0.650471</td><td>NA      </td></tr>\n",
       "</tbody>\n",
       "</table>\n"
      ],
      "text/latex": [
       "\\begin{tabular}{r|lllllllllllll}\n",
       " X1 & X2 & X3 & X4 & X5 & X6 & X7 & X8 & X9 & X10 & X11 & X12 & X13\\\\\n",
       "\\hline\n",
       "\t 0        & 1        & 0.209375 & 1        & 10       & 0.062159 & 10       & 100      & 0.080611 & 100      & -99      & 0.647854 & NA      \\\\\n",
       "\t 0        & 1        & 0.220286 & 1        & 10       & 0.055128 & 10       & 100      & 0.068925 & 100      & -99      & 0.655661 & NA      \\\\\n",
       "\t 0        & 1        & 0.221129 & 1        & 10       & 0.056743 & 10       & 100      & 0.071304 & 100      & -99      & 0.650824 & NA      \\\\\n",
       "\t 0        & 1        & 0.233102 & 1        & 10       & 0.029710 & 10       & 100      & 0.033497 & 100      & -99      & 0.703690 & NA      \\\\\n",
       "\t 0        & 1        & 0.252998 & 1        & 10       & 0.030870 & 10       & 100      & 0.034637 & 100      & -99      & 0.681495 & NA      \\\\\n",
       "\t 0        & 1        & 0.220133 & 1        & 10       & 0.057253 & 10       & 100      & 0.072144 & 100      & -99      & 0.650471 & NA      \\\\\n",
       "\\end{tabular}\n"
      ],
      "text/markdown": [
       "\n",
       "X1 | X2 | X3 | X4 | X5 | X6 | X7 | X8 | X9 | X10 | X11 | X12 | X13 | \n",
       "|---|---|---|---|---|---|\n",
       "| 0        | 1        | 0.209375 | 1        | 10       | 0.062159 | 10       | 100      | 0.080611 | 100      | -99      | 0.647854 | NA       | \n",
       "| 0        | 1        | 0.220286 | 1        | 10       | 0.055128 | 10       | 100      | 0.068925 | 100      | -99      | 0.655661 | NA       | \n",
       "| 0        | 1        | 0.221129 | 1        | 10       | 0.056743 | 10       | 100      | 0.071304 | 100      | -99      | 0.650824 | NA       | \n",
       "| 0        | 1        | 0.233102 | 1        | 10       | 0.029710 | 10       | 100      | 0.033497 | 100      | -99      | 0.703690 | NA       | \n",
       "| 0        | 1        | 0.252998 | 1        | 10       | 0.030870 | 10       | 100      | 0.034637 | 100      | -99      | 0.681495 | NA       | \n",
       "| 0        | 1        | 0.220133 | 1        | 10       | 0.057253 | 10       | 100      | 0.072144 | 100      | -99      | 0.650471 | NA       | \n",
       "\n",
       "\n"
      ],
      "text/plain": [
       "  X1 X2 X3       X4 X5 X6       X7 X8  X9       X10 X11 X12      X13\n",
       "1 0  1  0.209375 1  10 0.062159 10 100 0.080611 100 -99 0.647854 NA \n",
       "2 0  1  0.220286 1  10 0.055128 10 100 0.068925 100 -99 0.655661 NA \n",
       "3 0  1  0.221129 1  10 0.056743 10 100 0.071304 100 -99 0.650824 NA \n",
       "4 0  1  0.233102 1  10 0.029710 10 100 0.033497 100 -99 0.703690 NA \n",
       "5 0  1  0.252998 1  10 0.030870 10 100 0.034637 100 -99 0.681495 NA \n",
       "6 0  1  0.220133 1  10 0.057253 10 100 0.072144 100 -99 0.650471 NA "
      ]
     },
     "metadata": {},
     "output_type": "display_data"
    }
   ],
   "source": [
    "d_upper <- read_delim('dfe_outfile_upper_between_centrality.csv', delim = ' ', col_names = FALSE);\n",
    "d_lower <- read_delim('dfe_outfile_lower_between_centrality.csv', delim = ' ', col_names = FALSE);\n",
    "dim(d_upper); dim(d_lower);\n",
    "\n",
    "head(d_upper); head(d_lower)"
   ]
  },
  {
   "cell_type": "code",
   "execution_count": 42,
   "metadata": {},
   "outputs": [],
   "source": [
    "library(purrr)\n",
    "library(tidyr)"
   ]
  },
  {
   "cell_type": "code",
   "execution_count": 43,
   "metadata": {},
   "outputs": [],
   "source": [
    "dfe <- lapply(ls(pattern = 'd*r'), get)\n",
    "names(dfe) <- ls(pattern = 'd*r')"
   ]
  },
  {
   "cell_type": "code",
   "execution_count": 44,
   "metadata": {},
   "outputs": [
    {
     "data": {
      "text/html": [
       "<dl>\n",
       "\t<dt>$d_lower</dt>\n",
       "\t\t<dd><table>\n",
       "<thead><tr><th scope=col>X1</th><th scope=col>X2</th><th scope=col>X3</th><th scope=col>X4</th><th scope=col>X5</th><th scope=col>X6</th><th scope=col>X7</th><th scope=col>X8</th><th scope=col>X9</th><th scope=col>X10</th><th scope=col>X11</th><th scope=col>X12</th><th scope=col>X13</th></tr></thead>\n",
       "<tbody>\n",
       "\t<tr><td>0       </td><td>1       </td><td>0.209375</td><td>1       </td><td>10      </td><td>0.062159</td><td>10      </td><td>100     </td><td>0.080611</td><td>100     </td><td>-99     </td><td>0.647854</td><td>NA      </td></tr>\n",
       "\t<tr><td>0       </td><td>1       </td><td>0.220286</td><td>1       </td><td>10      </td><td>0.055128</td><td>10      </td><td>100     </td><td>0.068925</td><td>100     </td><td>-99     </td><td>0.655661</td><td>NA      </td></tr>\n",
       "\t<tr><td>0       </td><td>1       </td><td>0.221129</td><td>1       </td><td>10      </td><td>0.056743</td><td>10      </td><td>100     </td><td>0.071304</td><td>100     </td><td>-99     </td><td>0.650824</td><td>NA      </td></tr>\n",
       "\t<tr><td>0       </td><td>1       </td><td>0.233102</td><td>1       </td><td>10      </td><td>0.029710</td><td>10      </td><td>100     </td><td>0.033497</td><td>100     </td><td>-99     </td><td>0.703690</td><td>NA      </td></tr>\n",
       "\t<tr><td>0       </td><td>1       </td><td>0.252998</td><td>1       </td><td>10      </td><td>0.030870</td><td>10      </td><td>100     </td><td>0.034637</td><td>100     </td><td>-99     </td><td>0.681495</td><td>NA      </td></tr>\n",
       "\t<tr><td>0       </td><td>1       </td><td>0.220133</td><td>1       </td><td>10      </td><td>0.057253</td><td>10      </td><td>100     </td><td>0.072144</td><td>100     </td><td>-99     </td><td>0.650471</td><td>NA      </td></tr>\n",
       "</tbody>\n",
       "</table>\n",
       "</dd>\n",
       "\t<dt>$d_upper</dt>\n",
       "\t\t<dd><table>\n",
       "<thead><tr><th scope=col>X1</th><th scope=col>X2</th><th scope=col>X3</th><th scope=col>X4</th><th scope=col>X5</th><th scope=col>X6</th><th scope=col>X7</th><th scope=col>X8</th><th scope=col>X9</th><th scope=col>X10</th><th scope=col>X11</th><th scope=col>X12</th><th scope=col>X13</th></tr></thead>\n",
       "<tbody>\n",
       "\t<tr><td>0       </td><td>1       </td><td>0.226994</td><td>1       </td><td>10      </td><td>0.064960</td><td>10      </td><td>100     </td><td>0.083547</td><td>100     </td><td>-99     </td><td>0.624499</td><td>NA      </td></tr>\n",
       "\t<tr><td>0       </td><td>1       </td><td>0.171308</td><td>1       </td><td>10      </td><td>0.051011</td><td>10      </td><td>100     </td><td>0.066201</td><td>100     </td><td>-99     </td><td>0.711480</td><td>NA      </td></tr>\n",
       "\t<tr><td>0       </td><td>1       </td><td>0.164091</td><td>1       </td><td>10      </td><td>0.058642</td><td>10      </td><td>100     </td><td>0.079597</td><td>100     </td><td>-99     </td><td>0.697670</td><td>NA      </td></tr>\n",
       "\t<tr><td>0       </td><td>1       </td><td>0.236975</td><td>1       </td><td>10      </td><td>0.035485</td><td>10      </td><td>100     </td><td>0.040798</td><td>100     </td><td>-99     </td><td>0.686742</td><td>NA      </td></tr>\n",
       "\t<tr><td>0       </td><td>1       </td><td>0.220208</td><td>1       </td><td>10      </td><td>0.086711</td><td>10      </td><td>100     </td><td>0.120780</td><td>100     </td><td>-99     </td><td>0.572301</td><td>NA      </td></tr>\n",
       "\t<tr><td>0       </td><td>1       </td><td>0.222859</td><td>1       </td><td>10      </td><td>0.059714</td><td>10      </td><td>100     </td><td>0.075713</td><td>100     </td><td>-99     </td><td>0.641715</td><td>NA      </td></tr>\n",
       "</tbody>\n",
       "</table>\n",
       "</dd>\n",
       "</dl>\n"
      ],
      "text/latex": [
       "\\begin{description}\n",
       "\\item[\\$d\\_lower] \\begin{tabular}{r|lllllllllllll}\n",
       " X1 & X2 & X3 & X4 & X5 & X6 & X7 & X8 & X9 & X10 & X11 & X12 & X13\\\\\n",
       "\\hline\n",
       "\t 0        & 1        & 0.209375 & 1        & 10       & 0.062159 & 10       & 100      & 0.080611 & 100      & -99      & 0.647854 & NA      \\\\\n",
       "\t 0        & 1        & 0.220286 & 1        & 10       & 0.055128 & 10       & 100      & 0.068925 & 100      & -99      & 0.655661 & NA      \\\\\n",
       "\t 0        & 1        & 0.221129 & 1        & 10       & 0.056743 & 10       & 100      & 0.071304 & 100      & -99      & 0.650824 & NA      \\\\\n",
       "\t 0        & 1        & 0.233102 & 1        & 10       & 0.029710 & 10       & 100      & 0.033497 & 100      & -99      & 0.703690 & NA      \\\\\n",
       "\t 0        & 1        & 0.252998 & 1        & 10       & 0.030870 & 10       & 100      & 0.034637 & 100      & -99      & 0.681495 & NA      \\\\\n",
       "\t 0        & 1        & 0.220133 & 1        & 10       & 0.057253 & 10       & 100      & 0.072144 & 100      & -99      & 0.650471 & NA      \\\\\n",
       "\\end{tabular}\n",
       "\n",
       "\\item[\\$d\\_upper] \\begin{tabular}{r|lllllllllllll}\n",
       " X1 & X2 & X3 & X4 & X5 & X6 & X7 & X8 & X9 & X10 & X11 & X12 & X13\\\\\n",
       "\\hline\n",
       "\t 0        & 1        & 0.226994 & 1        & 10       & 0.064960 & 10       & 100      & 0.083547 & 100      & -99      & 0.624499 & NA      \\\\\n",
       "\t 0        & 1        & 0.171308 & 1        & 10       & 0.051011 & 10       & 100      & 0.066201 & 100      & -99      & 0.711480 & NA      \\\\\n",
       "\t 0        & 1        & 0.164091 & 1        & 10       & 0.058642 & 10       & 100      & 0.079597 & 100      & -99      & 0.697670 & NA      \\\\\n",
       "\t 0        & 1        & 0.236975 & 1        & 10       & 0.035485 & 10       & 100      & 0.040798 & 100      & -99      & 0.686742 & NA      \\\\\n",
       "\t 0        & 1        & 0.220208 & 1        & 10       & 0.086711 & 10       & 100      & 0.120780 & 100      & -99      & 0.572301 & NA      \\\\\n",
       "\t 0        & 1        & 0.222859 & 1        & 10       & 0.059714 & 10       & 100      & 0.075713 & 100      & -99      & 0.641715 & NA      \\\\\n",
       "\\end{tabular}\n",
       "\n",
       "\\end{description}\n"
      ],
      "text/markdown": [
       "$d_lower\n",
       ":   \n",
       "X1 | X2 | X3 | X4 | X5 | X6 | X7 | X8 | X9 | X10 | X11 | X12 | X13 | \n",
       "|---|---|---|---|---|---|\n",
       "| 0        | 1        | 0.209375 | 1        | 10       | 0.062159 | 10       | 100      | 0.080611 | 100      | -99      | 0.647854 | NA       | \n",
       "| 0        | 1        | 0.220286 | 1        | 10       | 0.055128 | 10       | 100      | 0.068925 | 100      | -99      | 0.655661 | NA       | \n",
       "| 0        | 1        | 0.221129 | 1        | 10       | 0.056743 | 10       | 100      | 0.071304 | 100      | -99      | 0.650824 | NA       | \n",
       "| 0        | 1        | 0.233102 | 1        | 10       | 0.029710 | 10       | 100      | 0.033497 | 100      | -99      | 0.703690 | NA       | \n",
       "| 0        | 1        | 0.252998 | 1        | 10       | 0.030870 | 10       | 100      | 0.034637 | 100      | -99      | 0.681495 | NA       | \n",
       "| 0        | 1        | 0.220133 | 1        | 10       | 0.057253 | 10       | 100      | 0.072144 | 100      | -99      | 0.650471 | NA       | \n",
       "\n",
       "\n",
       "\n",
       "$d_upper\n",
       ":   \n",
       "X1 | X2 | X3 | X4 | X5 | X6 | X7 | X8 | X9 | X10 | X11 | X12 | X13 | \n",
       "|---|---|---|---|---|---|\n",
       "| 0        | 1        | 0.226994 | 1        | 10       | 0.064960 | 10       | 100      | 0.083547 | 100      | -99      | 0.624499 | NA       | \n",
       "| 0        | 1        | 0.171308 | 1        | 10       | 0.051011 | 10       | 100      | 0.066201 | 100      | -99      | 0.711480 | NA       | \n",
       "| 0        | 1        | 0.164091 | 1        | 10       | 0.058642 | 10       | 100      | 0.079597 | 100      | -99      | 0.697670 | NA       | \n",
       "| 0        | 1        | 0.236975 | 1        | 10       | 0.035485 | 10       | 100      | 0.040798 | 100      | -99      | 0.686742 | NA       | \n",
       "| 0        | 1        | 0.220208 | 1        | 10       | 0.086711 | 10       | 100      | 0.120780 | 100      | -99      | 0.572301 | NA       | \n",
       "| 0        | 1        | 0.222859 | 1        | 10       | 0.059714 | 10       | 100      | 0.075713 | 100      | -99      | 0.641715 | NA       | \n",
       "\n",
       "\n",
       "\n",
       "\n",
       "\n"
      ],
      "text/plain": [
       "$d_lower\n",
       "# A tibble: 6 x 13\n",
       "     X1    X2       X3    X4    X5       X6    X7    X8       X9   X10   X11\n",
       "  <dbl> <dbl>    <dbl> <dbl> <dbl>    <dbl> <dbl> <dbl>    <dbl> <dbl> <dbl>\n",
       "1     0     1 0.209375     1    10 0.062159    10   100 0.080611   100   -99\n",
       "2     0     1 0.220286     1    10 0.055128    10   100 0.068925   100   -99\n",
       "3     0     1 0.221129     1    10 0.056743    10   100 0.071304   100   -99\n",
       "4     0     1 0.233102     1    10 0.029710    10   100 0.033497   100   -99\n",
       "5     0     1 0.252998     1    10 0.030870    10   100 0.034637   100   -99\n",
       "6     0     1 0.220133     1    10 0.057253    10   100 0.072144   100   -99\n",
       "# ... with 2 more variables: X12 <dbl>, X13 <chr>\n",
       "\n",
       "$d_upper\n",
       "# A tibble: 6 x 13\n",
       "     X1    X2       X3    X4    X5       X6    X7    X8       X9   X10   X11\n",
       "  <dbl> <dbl>    <dbl> <dbl> <dbl>    <dbl> <dbl> <dbl>    <dbl> <dbl> <dbl>\n",
       "1     0     1 0.226994     1    10 0.064960    10   100 0.083547   100   -99\n",
       "2     0     1 0.171308     1    10 0.051011    10   100 0.066201   100   -99\n",
       "3     0     1 0.164091     1    10 0.058642    10   100 0.079597   100   -99\n",
       "4     0     1 0.236975     1    10 0.035485    10   100 0.040798   100   -99\n",
       "5     0     1 0.220208     1    10 0.086711    10   100 0.120780   100   -99\n",
       "6     0     1 0.222859     1    10 0.059714    10   100 0.075713   100   -99\n",
       "# ... with 2 more variables: X12 <dbl>, X13 <chr>\n"
      ]
     },
     "metadata": {},
     "output_type": "display_data"
    }
   ],
   "source": [
    "lapply(dfe, function(df) head(df))"
   ]
  },
  {
   "cell_type": "code",
   "execution_count": 45,
   "metadata": {},
   "outputs": [
    {
     "data": {
      "text/html": [
       "<dl>\n",
       "\t<dt>$d_lower</dt>\n",
       "\t\t<dd><table>\n",
       "<thead><tr><th scope=col>group_1</th><th scope=col>group_2</th><th scope=col>group_3</th><th scope=col>group_4</th></tr></thead>\n",
       "<tbody>\n",
       "\t<tr><td>0.209375</td><td>0.062159</td><td>0.080611</td><td>0.647854</td></tr>\n",
       "\t<tr><td>0.220286</td><td>0.055128</td><td>0.068925</td><td>0.655661</td></tr>\n",
       "\t<tr><td>0.221129</td><td>0.056743</td><td>0.071304</td><td>0.650824</td></tr>\n",
       "\t<tr><td>0.233102</td><td>0.029710</td><td>0.033497</td><td>0.703690</td></tr>\n",
       "\t<tr><td>0.252998</td><td>0.030870</td><td>0.034637</td><td>0.681495</td></tr>\n",
       "\t<tr><td>0.220133</td><td>0.057253</td><td>0.072144</td><td>0.650471</td></tr>\n",
       "</tbody>\n",
       "</table>\n",
       "</dd>\n",
       "\t<dt>$d_upper</dt>\n",
       "\t\t<dd><table>\n",
       "<thead><tr><th scope=col>group_1</th><th scope=col>group_2</th><th scope=col>group_3</th><th scope=col>group_4</th></tr></thead>\n",
       "<tbody>\n",
       "\t<tr><td>0.226994</td><td>0.064960</td><td>0.083547</td><td>0.624499</td></tr>\n",
       "\t<tr><td>0.171308</td><td>0.051011</td><td>0.066201</td><td>0.711480</td></tr>\n",
       "\t<tr><td>0.164091</td><td>0.058642</td><td>0.079597</td><td>0.697670</td></tr>\n",
       "\t<tr><td>0.236975</td><td>0.035485</td><td>0.040798</td><td>0.686742</td></tr>\n",
       "\t<tr><td>0.220208</td><td>0.086711</td><td>0.120780</td><td>0.572301</td></tr>\n",
       "\t<tr><td>0.222859</td><td>0.059714</td><td>0.075713</td><td>0.641715</td></tr>\n",
       "</tbody>\n",
       "</table>\n",
       "</dd>\n",
       "</dl>\n"
      ],
      "text/latex": [
       "\\begin{description}\n",
       "\\item[\\$d\\_lower] \\begin{tabular}{r|llll}\n",
       " group\\_1 & group\\_2 & group\\_3 & group\\_4\\\\\n",
       "\\hline\n",
       "\t 0.209375 & 0.062159 & 0.080611 & 0.647854\\\\\n",
       "\t 0.220286 & 0.055128 & 0.068925 & 0.655661\\\\\n",
       "\t 0.221129 & 0.056743 & 0.071304 & 0.650824\\\\\n",
       "\t 0.233102 & 0.029710 & 0.033497 & 0.703690\\\\\n",
       "\t 0.252998 & 0.030870 & 0.034637 & 0.681495\\\\\n",
       "\t 0.220133 & 0.057253 & 0.072144 & 0.650471\\\\\n",
       "\\end{tabular}\n",
       "\n",
       "\\item[\\$d\\_upper] \\begin{tabular}{r|llll}\n",
       " group\\_1 & group\\_2 & group\\_3 & group\\_4\\\\\n",
       "\\hline\n",
       "\t 0.226994 & 0.064960 & 0.083547 & 0.624499\\\\\n",
       "\t 0.171308 & 0.051011 & 0.066201 & 0.711480\\\\\n",
       "\t 0.164091 & 0.058642 & 0.079597 & 0.697670\\\\\n",
       "\t 0.236975 & 0.035485 & 0.040798 & 0.686742\\\\\n",
       "\t 0.220208 & 0.086711 & 0.120780 & 0.572301\\\\\n",
       "\t 0.222859 & 0.059714 & 0.075713 & 0.641715\\\\\n",
       "\\end{tabular}\n",
       "\n",
       "\\end{description}\n"
      ],
      "text/markdown": [
       "$d_lower\n",
       ":   \n",
       "group_1 | group_2 | group_3 | group_4 | \n",
       "|---|---|---|---|---|---|\n",
       "| 0.209375 | 0.062159 | 0.080611 | 0.647854 | \n",
       "| 0.220286 | 0.055128 | 0.068925 | 0.655661 | \n",
       "| 0.221129 | 0.056743 | 0.071304 | 0.650824 | \n",
       "| 0.233102 | 0.029710 | 0.033497 | 0.703690 | \n",
       "| 0.252998 | 0.030870 | 0.034637 | 0.681495 | \n",
       "| 0.220133 | 0.057253 | 0.072144 | 0.650471 | \n",
       "\n",
       "\n",
       "\n",
       "$d_upper\n",
       ":   \n",
       "group_1 | group_2 | group_3 | group_4 | \n",
       "|---|---|---|---|---|---|\n",
       "| 0.226994 | 0.064960 | 0.083547 | 0.624499 | \n",
       "| 0.171308 | 0.051011 | 0.066201 | 0.711480 | \n",
       "| 0.164091 | 0.058642 | 0.079597 | 0.697670 | \n",
       "| 0.236975 | 0.035485 | 0.040798 | 0.686742 | \n",
       "| 0.220208 | 0.086711 | 0.120780 | 0.572301 | \n",
       "| 0.222859 | 0.059714 | 0.075713 | 0.641715 | \n",
       "\n",
       "\n",
       "\n",
       "\n",
       "\n"
      ],
      "text/plain": [
       "$d_lower\n",
       "# A tibble: 6 x 4\n",
       "   group_1  group_2  group_3  group_4\n",
       "     <dbl>    <dbl>    <dbl>    <dbl>\n",
       "1 0.209375 0.062159 0.080611 0.647854\n",
       "2 0.220286 0.055128 0.068925 0.655661\n",
       "3 0.221129 0.056743 0.071304 0.650824\n",
       "4 0.233102 0.029710 0.033497 0.703690\n",
       "5 0.252998 0.030870 0.034637 0.681495\n",
       "6 0.220133 0.057253 0.072144 0.650471\n",
       "\n",
       "$d_upper\n",
       "# A tibble: 6 x 4\n",
       "   group_1  group_2  group_3  group_4\n",
       "     <dbl>    <dbl>    <dbl>    <dbl>\n",
       "1 0.226994 0.064960 0.083547 0.624499\n",
       "2 0.171308 0.051011 0.066201 0.711480\n",
       "3 0.164091 0.058642 0.079597 0.697670\n",
       "4 0.236975 0.035485 0.040798 0.686742\n",
       "5 0.220208 0.086711 0.120780 0.572301\n",
       "6 0.222859 0.059714 0.075713 0.641715\n"
      ]
     },
     "metadata": {},
     "output_type": "display_data"
    }
   ],
   "source": [
    "dfe %<>% \n",
    "    lapply(function(df) select(df, group_1 = X3, group_2 = X6, group_3 = X9, group_4 = X12))\n",
    "        \n",
    "lapply(dfe, function(df) head(df))       "
   ]
  },
  {
   "cell_type": "code",
   "execution_count": 46,
   "metadata": {},
   "outputs": [
    {
     "data": {
      "text/html": [
       "<table>\n",
       "<thead><tr><th scope=col>group_1</th><th scope=col>group_2</th><th scope=col>group_3</th><th scope=col>group_4</th><th scope=col>group_11</th><th scope=col>group_21</th><th scope=col>group_31</th><th scope=col>group_41</th></tr></thead>\n",
       "<tbody>\n",
       "\t<tr><td>0.209375</td><td>0.062159</td><td>0.080611</td><td>0.647854</td><td>0.226994</td><td>0.064960</td><td>0.083547</td><td>0.624499</td></tr>\n",
       "\t<tr><td>0.220286</td><td>0.055128</td><td>0.068925</td><td>0.655661</td><td>0.171308</td><td>0.051011</td><td>0.066201</td><td>0.711480</td></tr>\n",
       "\t<tr><td>0.221129</td><td>0.056743</td><td>0.071304</td><td>0.650824</td><td>0.164091</td><td>0.058642</td><td>0.079597</td><td>0.697670</td></tr>\n",
       "\t<tr><td>0.233102</td><td>0.029710</td><td>0.033497</td><td>0.703690</td><td>0.236975</td><td>0.035485</td><td>0.040798</td><td>0.686742</td></tr>\n",
       "\t<tr><td>0.252998</td><td>0.030870</td><td>0.034637</td><td>0.681495</td><td>0.220208</td><td>0.086711</td><td>0.120780</td><td>0.572301</td></tr>\n",
       "\t<tr><td>0.220133</td><td>0.057253</td><td>0.072144</td><td>0.650471</td><td>0.222859</td><td>0.059714</td><td>0.075713</td><td>0.641715</td></tr>\n",
       "</tbody>\n",
       "</table>\n"
      ],
      "text/latex": [
       "\\begin{tabular}{r|llllllll}\n",
       " group\\_1 & group\\_2 & group\\_3 & group\\_4 & group\\_11 & group\\_21 & group\\_31 & group\\_41\\\\\n",
       "\\hline\n",
       "\t 0.209375 & 0.062159 & 0.080611 & 0.647854 & 0.226994 & 0.064960 & 0.083547 & 0.624499\\\\\n",
       "\t 0.220286 & 0.055128 & 0.068925 & 0.655661 & 0.171308 & 0.051011 & 0.066201 & 0.711480\\\\\n",
       "\t 0.221129 & 0.056743 & 0.071304 & 0.650824 & 0.164091 & 0.058642 & 0.079597 & 0.697670\\\\\n",
       "\t 0.233102 & 0.029710 & 0.033497 & 0.703690 & 0.236975 & 0.035485 & 0.040798 & 0.686742\\\\\n",
       "\t 0.252998 & 0.030870 & 0.034637 & 0.681495 & 0.220208 & 0.086711 & 0.120780 & 0.572301\\\\\n",
       "\t 0.220133 & 0.057253 & 0.072144 & 0.650471 & 0.222859 & 0.059714 & 0.075713 & 0.641715\\\\\n",
       "\\end{tabular}\n"
      ],
      "text/markdown": [
       "\n",
       "group_1 | group_2 | group_3 | group_4 | group_11 | group_21 | group_31 | group_41 | \n",
       "|---|---|---|---|---|---|\n",
       "| 0.209375 | 0.062159 | 0.080611 | 0.647854 | 0.226994 | 0.064960 | 0.083547 | 0.624499 | \n",
       "| 0.220286 | 0.055128 | 0.068925 | 0.655661 | 0.171308 | 0.051011 | 0.066201 | 0.711480 | \n",
       "| 0.221129 | 0.056743 | 0.071304 | 0.650824 | 0.164091 | 0.058642 | 0.079597 | 0.697670 | \n",
       "| 0.233102 | 0.029710 | 0.033497 | 0.703690 | 0.236975 | 0.035485 | 0.040798 | 0.686742 | \n",
       "| 0.252998 | 0.030870 | 0.034637 | 0.681495 | 0.220208 | 0.086711 | 0.120780 | 0.572301 | \n",
       "| 0.220133 | 0.057253 | 0.072144 | 0.650471 | 0.222859 | 0.059714 | 0.075713 | 0.641715 | \n",
       "\n",
       "\n"
      ],
      "text/plain": [
       "  group_1  group_2  group_3  group_4  group_11 group_21 group_31 group_41\n",
       "1 0.209375 0.062159 0.080611 0.647854 0.226994 0.064960 0.083547 0.624499\n",
       "2 0.220286 0.055128 0.068925 0.655661 0.171308 0.051011 0.066201 0.711480\n",
       "3 0.221129 0.056743 0.071304 0.650824 0.164091 0.058642 0.079597 0.697670\n",
       "4 0.233102 0.029710 0.033497 0.703690 0.236975 0.035485 0.040798 0.686742\n",
       "5 0.252998 0.030870 0.034637 0.681495 0.220208 0.086711 0.120780 0.572301\n",
       "6 0.220133 0.057253 0.072144 0.650471 0.222859 0.059714 0.075713 0.641715"
      ]
     },
     "metadata": {},
     "output_type": "display_data"
    }
   ],
   "source": [
    "dfe_full <- reduce(dfe, bind_cols)\n",
    "\n",
    "head(dfe_full)"
   ]
  },
  {
   "cell_type": "code",
   "execution_count": 47,
   "metadata": {},
   "outputs": [
    {
     "data": {
      "text/html": [
       "<table>\n",
       "<thead><tr><th scope=col>0-1 lower</th><th scope=col>1-10 lower</th><th scope=col>10-100 lower</th><th scope=col>100-infinity lower</th><th scope=col>0-1 upper</th><th scope=col>1-10 upper</th><th scope=col>10-100 upper</th><th scope=col>100-infinity upper</th></tr></thead>\n",
       "<tbody>\n",
       "\t<tr><td>0.209375</td><td>0.062159</td><td>0.080611</td><td>0.647854</td><td>0.226994</td><td>0.064960</td><td>0.083547</td><td>0.624499</td></tr>\n",
       "\t<tr><td>0.220286</td><td>0.055128</td><td>0.068925</td><td>0.655661</td><td>0.171308</td><td>0.051011</td><td>0.066201</td><td>0.711480</td></tr>\n",
       "\t<tr><td>0.221129</td><td>0.056743</td><td>0.071304</td><td>0.650824</td><td>0.164091</td><td>0.058642</td><td>0.079597</td><td>0.697670</td></tr>\n",
       "\t<tr><td>0.233102</td><td>0.029710</td><td>0.033497</td><td>0.703690</td><td>0.236975</td><td>0.035485</td><td>0.040798</td><td>0.686742</td></tr>\n",
       "\t<tr><td>0.252998</td><td>0.030870</td><td>0.034637</td><td>0.681495</td><td>0.220208</td><td>0.086711</td><td>0.120780</td><td>0.572301</td></tr>\n",
       "\t<tr><td>0.220133</td><td>0.057253</td><td>0.072144</td><td>0.650471</td><td>0.222859</td><td>0.059714</td><td>0.075713</td><td>0.641715</td></tr>\n",
       "</tbody>\n",
       "</table>\n"
      ],
      "text/latex": [
       "\\begin{tabular}{r|llllllll}\n",
       " 0-1 lower & 1-10 lower & 10-100 lower & 100-infinity lower & 0-1 upper & 1-10 upper & 10-100 upper & 100-infinity upper\\\\\n",
       "\\hline\n",
       "\t 0.209375 & 0.062159 & 0.080611 & 0.647854 & 0.226994 & 0.064960 & 0.083547 & 0.624499\\\\\n",
       "\t 0.220286 & 0.055128 & 0.068925 & 0.655661 & 0.171308 & 0.051011 & 0.066201 & 0.711480\\\\\n",
       "\t 0.221129 & 0.056743 & 0.071304 & 0.650824 & 0.164091 & 0.058642 & 0.079597 & 0.697670\\\\\n",
       "\t 0.233102 & 0.029710 & 0.033497 & 0.703690 & 0.236975 & 0.035485 & 0.040798 & 0.686742\\\\\n",
       "\t 0.252998 & 0.030870 & 0.034637 & 0.681495 & 0.220208 & 0.086711 & 0.120780 & 0.572301\\\\\n",
       "\t 0.220133 & 0.057253 & 0.072144 & 0.650471 & 0.222859 & 0.059714 & 0.075713 & 0.641715\\\\\n",
       "\\end{tabular}\n"
      ],
      "text/markdown": [
       "\n",
       "0-1 lower | 1-10 lower | 10-100 lower | 100-infinity lower | 0-1 upper | 1-10 upper | 10-100 upper | 100-infinity upper | \n",
       "|---|---|---|---|---|---|\n",
       "| 0.209375 | 0.062159 | 0.080611 | 0.647854 | 0.226994 | 0.064960 | 0.083547 | 0.624499 | \n",
       "| 0.220286 | 0.055128 | 0.068925 | 0.655661 | 0.171308 | 0.051011 | 0.066201 | 0.711480 | \n",
       "| 0.221129 | 0.056743 | 0.071304 | 0.650824 | 0.164091 | 0.058642 | 0.079597 | 0.697670 | \n",
       "| 0.233102 | 0.029710 | 0.033497 | 0.703690 | 0.236975 | 0.035485 | 0.040798 | 0.686742 | \n",
       "| 0.252998 | 0.030870 | 0.034637 | 0.681495 | 0.220208 | 0.086711 | 0.120780 | 0.572301 | \n",
       "| 0.220133 | 0.057253 | 0.072144 | 0.650471 | 0.222859 | 0.059714 | 0.075713 | 0.641715 | \n",
       "\n",
       "\n"
      ],
      "text/plain": [
       "  0-1 lower 1-10 lower 10-100 lower 100-infinity lower 0-1 upper 1-10 upper\n",
       "1 0.209375  0.062159   0.080611     0.647854           0.226994  0.064960  \n",
       "2 0.220286  0.055128   0.068925     0.655661           0.171308  0.051011  \n",
       "3 0.221129  0.056743   0.071304     0.650824           0.164091  0.058642  \n",
       "4 0.233102  0.029710   0.033497     0.703690           0.236975  0.035485  \n",
       "5 0.252998  0.030870   0.034637     0.681495           0.220208  0.086711  \n",
       "6 0.220133  0.057253   0.072144     0.650471           0.222859  0.059714  \n",
       "  10-100 upper 100-infinity upper\n",
       "1 0.083547     0.624499          \n",
       "2 0.066201     0.711480          \n",
       "3 0.079597     0.697670          \n",
       "4 0.040798     0.686742          \n",
       "5 0.120780     0.572301          \n",
       "6 0.075713     0.641715          "
      ]
     },
     "metadata": {},
     "output_type": "display_data"
    }
   ],
   "source": [
    "dfe_full %<>% rename('0-1 lower' = group_1, '1-10 lower' = group_2, '10-100 lower' = group_3, '100-infinity lower' = group_4,\n",
    "                    '0-1 upper' = group_11, '1-10 upper' = group_21, '10-100 upper' = group_31, '100-infinity upper' = group_41)\n",
    "\n",
    "head(dfe_full)"
   ]
  },
  {
   "cell_type": "code",
   "execution_count": 48,
   "metadata": {},
   "outputs": [
    {
     "data": {
      "text/html": [
       "<table>\n",
       "<thead><tr><th scope=col>group</th><th scope=col>value</th></tr></thead>\n",
       "<tbody>\n",
       "\t<tr><td>0-1 lower</td><td>0.209375 </td></tr>\n",
       "\t<tr><td>0-1 lower</td><td>0.220286 </td></tr>\n",
       "\t<tr><td>0-1 lower</td><td>0.221129 </td></tr>\n",
       "\t<tr><td>0-1 lower</td><td>0.233102 </td></tr>\n",
       "\t<tr><td>0-1 lower</td><td>0.252998 </td></tr>\n",
       "\t<tr><td>0-1 lower</td><td>0.220133 </td></tr>\n",
       "</tbody>\n",
       "</table>\n"
      ],
      "text/latex": [
       "\\begin{tabular}{r|ll}\n",
       " group & value\\\\\n",
       "\\hline\n",
       "\t 0-1 lower & 0.209375 \\\\\n",
       "\t 0-1 lower & 0.220286 \\\\\n",
       "\t 0-1 lower & 0.221129 \\\\\n",
       "\t 0-1 lower & 0.233102 \\\\\n",
       "\t 0-1 lower & 0.252998 \\\\\n",
       "\t 0-1 lower & 0.220133 \\\\\n",
       "\\end{tabular}\n"
      ],
      "text/markdown": [
       "\n",
       "group | value | \n",
       "|---|---|---|---|---|---|\n",
       "| 0-1 lower | 0.209375  | \n",
       "| 0-1 lower | 0.220286  | \n",
       "| 0-1 lower | 0.221129  | \n",
       "| 0-1 lower | 0.233102  | \n",
       "| 0-1 lower | 0.252998  | \n",
       "| 0-1 lower | 0.220133  | \n",
       "\n",
       "\n"
      ],
      "text/plain": [
       "  group     value   \n",
       "1 0-1 lower 0.209375\n",
       "2 0-1 lower 0.220286\n",
       "3 0-1 lower 0.221129\n",
       "4 0-1 lower 0.233102\n",
       "5 0-1 lower 0.252998\n",
       "6 0-1 lower 0.220133"
      ]
     },
     "metadata": {},
     "output_type": "display_data"
    }
   ],
   "source": [
    "dfe_full %<>%\n",
    "    gather(group, value)\n",
    "\n",
    "head(dfe_full)"
   ]
  },
  {
   "cell_type": "code",
   "execution_count": 49,
   "metadata": {},
   "outputs": [
    {
     "data": {
      "text/html": [
       "<table>\n",
       "<thead><tr><th scope=col>range</th><th scope=col>type_of</th><th scope=col>group_mean</th><th scope=col>group_sd</th><th scope=col>group_n</th><th scope=col>error</th><th scope=col>error_left</th><th scope=col>error_right</th></tr></thead>\n",
       "<tbody>\n",
       "\t<tr><td>0-1         </td><td>bottom 10%  </td><td>0.23549807  </td><td>0.02555472  </td><td>101         </td><td>0.005044822 </td><td>0.23045325  </td><td>0.24054289  </td></tr>\n",
       "\t<tr><td>0-1         </td><td>top 10%     </td><td>0.21142696  </td><td>0.02393343  </td><td>101         </td><td>0.004724759 </td><td>0.20670220  </td><td>0.21615172  </td></tr>\n",
       "\t<tr><td>1-10        </td><td>bottom 10%  </td><td>0.05412534  </td><td>0.01714593  </td><td>101         </td><td>0.003384821 </td><td>0.05074052  </td><td>0.05751016  </td></tr>\n",
       "\t<tr><td>1-10        </td><td>top 10%     </td><td>0.05563134  </td><td>0.01683274  </td><td>101         </td><td>0.003322993 </td><td>0.05230834  </td><td>0.05895433  </td></tr>\n",
       "\t<tr><td>10-100      </td><td>bottom 10%  </td><td>0.06811457  </td><td>0.02599916  </td><td>101         </td><td>0.005132560 </td><td>0.06298201  </td><td>0.07324713  </td></tr>\n",
       "\t<tr><td>10-100      </td><td>top 10%     </td><td>0.07180735  </td><td>0.02616605  </td><td>101         </td><td>0.005165506 </td><td>0.06664184  </td><td>0.07697285  </td></tr>\n",
       "\t<tr><td>100-infinity</td><td>bottom 10%  </td><td>0.64226207  </td><td>0.04541391  </td><td>101         </td><td>0.008965275 </td><td>0.63329679  </td><td>0.65122734  </td></tr>\n",
       "\t<tr><td>100-infinity</td><td>top 10%     </td><td>0.66113429  </td><td>0.04766794  </td><td>101         </td><td>0.009410250 </td><td>0.65172404  </td><td>0.67054454  </td></tr>\n",
       "</tbody>\n",
       "</table>\n"
      ],
      "text/latex": [
       "\\begin{tabular}{r|llllllll}\n",
       " range & type\\_of & group\\_mean & group\\_sd & group\\_n & error & error\\_left & error\\_right\\\\\n",
       "\\hline\n",
       "\t 0-1          & bottom 10\\% & 0.23549807   & 0.02555472   & 101          & 0.005044822  & 0.23045325   & 0.24054289  \\\\\n",
       "\t 0-1          & top 10\\%    & 0.21142696   & 0.02393343   & 101          & 0.004724759  & 0.20670220   & 0.21615172  \\\\\n",
       "\t 1-10         & bottom 10\\% & 0.05412534   & 0.01714593   & 101          & 0.003384821  & 0.05074052   & 0.05751016  \\\\\n",
       "\t 1-10         & top 10\\%    & 0.05563134   & 0.01683274   & 101          & 0.003322993  & 0.05230834   & 0.05895433  \\\\\n",
       "\t 10-100       & bottom 10\\% & 0.06811457   & 0.02599916   & 101          & 0.005132560  & 0.06298201   & 0.07324713  \\\\\n",
       "\t 10-100       & top 10\\%    & 0.07180735   & 0.02616605   & 101          & 0.005165506  & 0.06664184   & 0.07697285  \\\\\n",
       "\t 100-infinity & bottom 10\\% & 0.64226207   & 0.04541391   & 101          & 0.008965275  & 0.63329679   & 0.65122734  \\\\\n",
       "\t 100-infinity & top 10\\%    & 0.66113429   & 0.04766794   & 101          & 0.009410250  & 0.65172404   & 0.67054454  \\\\\n",
       "\\end{tabular}\n"
      ],
      "text/markdown": [
       "\n",
       "range | type_of | group_mean | group_sd | group_n | error | error_left | error_right | \n",
       "|---|---|---|---|---|---|---|---|\n",
       "| 0-1          | bottom 10%   | 0.23549807   | 0.02555472   | 101          | 0.005044822  | 0.23045325   | 0.24054289   | \n",
       "| 0-1          | top 10%      | 0.21142696   | 0.02393343   | 101          | 0.004724759  | 0.20670220   | 0.21615172   | \n",
       "| 1-10         | bottom 10%   | 0.05412534   | 0.01714593   | 101          | 0.003384821  | 0.05074052   | 0.05751016   | \n",
       "| 1-10         | top 10%      | 0.05563134   | 0.01683274   | 101          | 0.003322993  | 0.05230834   | 0.05895433   | \n",
       "| 10-100       | bottom 10%   | 0.06811457   | 0.02599916   | 101          | 0.005132560  | 0.06298201   | 0.07324713   | \n",
       "| 10-100       | top 10%      | 0.07180735   | 0.02616605   | 101          | 0.005165506  | 0.06664184   | 0.07697285   | \n",
       "| 100-infinity | bottom 10%   | 0.64226207   | 0.04541391   | 101          | 0.008965275  | 0.63329679   | 0.65122734   | \n",
       "| 100-infinity | top 10%      | 0.66113429   | 0.04766794   | 101          | 0.009410250  | 0.65172404   | 0.67054454   | \n",
       "\n",
       "\n"
      ],
      "text/plain": [
       "  range        type_of    group_mean group_sd   group_n error       error_left\n",
       "1 0-1          bottom 10% 0.23549807 0.02555472 101     0.005044822 0.23045325\n",
       "2 0-1          top 10%    0.21142696 0.02393343 101     0.004724759 0.20670220\n",
       "3 1-10         bottom 10% 0.05412534 0.01714593 101     0.003384821 0.05074052\n",
       "4 1-10         top 10%    0.05563134 0.01683274 101     0.003322993 0.05230834\n",
       "5 10-100       bottom 10% 0.06811457 0.02599916 101     0.005132560 0.06298201\n",
       "6 10-100       top 10%    0.07180735 0.02616605 101     0.005165506 0.06664184\n",
       "7 100-infinity bottom 10% 0.64226207 0.04541391 101     0.008965275 0.63329679\n",
       "8 100-infinity top 10%    0.66113429 0.04766794 101     0.009410250 0.65172404\n",
       "  error_right\n",
       "1 0.24054289 \n",
       "2 0.21615172 \n",
       "3 0.05751016 \n",
       "4 0.05895433 \n",
       "5 0.07324713 \n",
       "6 0.07697285 \n",
       "7 0.65122734 \n",
       "8 0.67054454 "
      ]
     },
     "metadata": {},
     "output_type": "display_data"
    }
   ],
   "source": [
    "dfe_full_cis <- dfe_full %>%\n",
    "    group_by(group) %>%\n",
    "    summarise(group_mean = mean(value), group_sd = sd(value), group_n = n()) %>%\n",
    "    mutate(error = qt(0.975, df = (group_n - 1)) * ((group_sd) / sqrt(group_n))) %>%\n",
    "    mutate(error_left = group_mean - error, error_right = group_mean + error) %>%\n",
    "    separate(group, c('range', 'type_of'), sep = ' ') %>%\n",
    "    mutate(type_of = case_when(type_of == 'lower' ~ 'bottom 10%', type_of == 'upper' ~ 'top 10%'))\n",
    "\n",
    "dfe_full_cis"
   ]
  },
  {
   "cell_type": "code",
   "execution_count": 50,
   "metadata": {},
   "outputs": [
    {
     "data": {
      "text/html": [
       "'0-1'"
      ],
      "text/latex": [
       "'0-1'"
      ],
      "text/markdown": [
       "'0-1'"
      ],
      "text/plain": [
       "[1] \"0-1\""
      ]
     },
     "metadata": {},
     "output_type": "display_data"
    }
   ],
   "source": [
    "dfe_full_cis$range[1]"
   ]
  },
  {
   "cell_type": "code",
   "execution_count": 54,
   "metadata": {},
   "outputs": [
    {
     "name": "stderr",
     "output_type": "stream",
     "text": [
      "Saving 6.67 x 6.67 in image\n"
     ]
    }
   ],
   "source": [
    "my.plot<-ggplot(dfe_full_cis, aes(x = factor(range), y = group_mean, fill = factor(type_of))) + \n",
    "geom_bar(stat = 'identity', position = 'dodge') +\n",
    "geom_errorbar(aes(ymin = error_left, ymax = error_right), position = position_dodge(0.9), width = 0.3, size = 0.8) +\n",
    "theme_linedraw() +\n",
    "# scale_fill_brewer(palette = 9, direction = 1) +\n",
    "# scale_fill_manual(values=c(\"#c76650\",\"#990000\")) + red\n",
    "scale_fill_manual(values=c(\"#a6a6a6\",\"#990000\")) +\n",
    "\n",
    "xlab(expression(paste(N[e], 's'))) +\n",
    "ylab('proportion of mutations') +\n",
    "theme(panel.grid.major = element_blank(), panel.grid.minor = element_line(),\n",
    "      axis.text = element_text(size = 14),\n",
    "      axis.title = element_text(size = 14)) +\n",
    "theme(legend.position = c(0.77, 0.92)) +\n",
    "guides(fill = guide_legend(title = expression(paste(\"Measure: betweenness centrality\")))) +\n",
    "coord_cartesian(y = c(0, 1))\n",
    "ggsave(plot=my.plot, \"./bw_props.png\")"
   ]
  },
  {
   "cell_type": "code",
   "execution_count": 55,
   "metadata": {},
   "outputs": [
    {
     "data": {},
     "metadata": {},
     "output_type": "display_data"
    },
    {
     "data": {
      "image/png": "[encoded data removed]",
      "text/plain": [
       "plot without title"
      ]
     },
     "metadata": {},
     "output_type": "display_data",
     "source": "R display func"
    }
   ],
   "source": [
    "my.plot"
   ]
  },
  {
   "cell_type": "code",
   "execution_count": null,
   "metadata": {},
   "outputs": [],
   "source": []
  },
  {
   "cell_type": "code",
   "execution_count": null,
   "metadata": {},
   "outputs": [],
   "source": []
  },
  {
   "cell_type": "code",
   "execution_count": null,
   "metadata": {},
   "outputs": [],
   "source": []
  },
  {
   "cell_type": "code",
   "execution_count": null,
   "metadata": {},
   "outputs": [],
   "source": []
  },
  {
   "cell_type": "markdown",
   "metadata": {},
   "source": [
    "from https://www.cyclismo.org/tutorial/R/confidence.html\n",
    "\n",
    "> mean <- 5\n",
    "> sd <- 2\n",
    "> sample size <- 20\n",
    "> error <- qt(0.975,df=n-1)*s/sqrt(n)\n",
    "> left <- a-error\n",
    "> right <- a+error\n",
    "> left\n",
    "[1] 4.063971\n",
    "> right\n",
    "[1] 5.936029"
   ]
  },
  {
   "cell_type": "code",
   "execution_count": null,
   "metadata": {},
   "outputs": [],
   "source": []
  }
 ],
 "metadata": {
  "kernelspec": {
   "display_name": "R",
   "language": "R",
   "name": "ir"
  },
  "language_info": {
   "codemirror_mode": "r",
   "file_extension": ".r",
   "mimetype": "text/x-r-source",
   "name": "R",
   "pygments_lexer": "r",
   "version": "3.4.1"
  }
 },
 "nbformat": 4,
 "nbformat_minor": 2
}
