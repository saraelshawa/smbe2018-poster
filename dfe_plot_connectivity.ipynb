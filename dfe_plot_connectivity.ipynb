{
 "cells": [
  {
   "cell_type": "code",
   "execution_count": 33,
   "metadata": {},
   "outputs": [],
   "source": [
    "library(dplyr)\n",
    "library(ggplot2)\n",
    "library(readr)\n",
    "library(magrittr)"
   ]
  },
  {
   "cell_type": "code",
   "execution_count": 34,
   "metadata": {},
   "outputs": [
    {
     "name": "stderr",
     "output_type": "stream",
     "text": [
      "Parsed with column specification:\n",
      "cols(\n",
      "  X1 = col_double(),\n",
      "  X2 = col_double(),\n",
      "  X3 = col_double(),\n",
      "  X4 = col_double(),\n",
      "  X5 = col_double(),\n",
      "  X6 = col_double(),\n",
      "  X7 = col_double(),\n",
      "  X8 = col_double(),\n",
      "  X9 = col_double(),\n",
      "  X10 = col_double(),\n",
      "  X11 = col_double(),\n",
      "  X12 = col_double(),\n",
      "  X13 = col_character()\n",
      ")\n",
      "Parsed with column specification:\n",
      "cols(\n",
      "  X1 = col_double(),\n",
      "  X2 = col_double(),\n",
      "  X3 = col_double(),\n",
      "  X4 = col_double(),\n",
      "  X5 = col_double(),\n",
      "  X6 = col_double(),\n",
      "  X7 = col_double(),\n",
      "  X8 = col_double(),\n",
      "  X9 = col_double(),\n",
      "  X10 = col_double(),\n",
      "  X11 = col_double(),\n",
      "  X12 = col_double(),\n",
      "  X13 = col_character()\n",
      ")\n"
     ]
    },
    {
     "data": {
      "text/html": [
       "<ol class=list-inline>\n",
       "\t<li>101</li>\n",
       "\t<li>13</li>\n",
       "</ol>\n"
      ],
      "text/latex": [
       "\\begin{enumerate*}\n",
       "\\item 101\n",
       "\\item 13\n",
       "\\end{enumerate*}\n"
      ],
      "text/markdown": [
       "1. 101\n",
       "2. 13\n",
       "\n",
       "\n"
      ],
      "text/plain": [
       "[1] 101  13"
      ]
     },
     "metadata": {},
     "output_type": "display_data"
    },
    {
     "data": {
      "text/html": [
       "<ol class=list-inline>\n",
       "\t<li>101</li>\n",
       "\t<li>13</li>\n",
       "</ol>\n"
      ],
      "text/latex": [
       "\\begin{enumerate*}\n",
       "\\item 101\n",
       "\\item 13\n",
       "\\end{enumerate*}\n"
      ],
      "text/markdown": [
       "1. 101\n",
       "2. 13\n",
       "\n",
       "\n"
      ],
      "text/plain": [
       "[1] 101  13"
      ]
     },
     "metadata": {},
     "output_type": "display_data"
    },
    {
     "data": {
      "text/html": [
       "<table>\n",
       "<thead><tr><th scope=col>X1</th><th scope=col>X2</th><th scope=col>X3</th><th scope=col>X4</th><th scope=col>X5</th><th scope=col>X6</th><th scope=col>X7</th><th scope=col>X8</th><th scope=col>X9</th><th scope=col>X10</th><th scope=col>X11</th><th scope=col>X12</th><th scope=col>X13</th></tr></thead>\n",
       "<tbody>\n",
       "\t<tr><td>0       </td><td>1       </td><td>0.228760</td><td>1       </td><td>10      </td><td>0.050160</td><td>10      </td><td>100     </td><td>0.061159</td><td>100     </td><td>-99     </td><td>0.659921</td><td>NA      </td></tr>\n",
       "\t<tr><td>0       </td><td>1       </td><td>0.222626</td><td>1       </td><td>10      </td><td>0.092410</td><td>10      </td><td>100     </td><td>0.130629</td><td>100     </td><td>-99     </td><td>0.554335</td><td>NA      </td></tr>\n",
       "\t<tr><td>0       </td><td>1       </td><td>0.245835</td><td>1       </td><td>10      </td><td>0.075784</td><td>10      </td><td>100     </td><td>0.099133</td><td>100     </td><td>-99     </td><td>0.579248</td><td>NA      </td></tr>\n",
       "\t<tr><td>0       </td><td>1       </td><td>0.262262</td><td>1       </td><td>10      </td><td>0.059204</td><td>10      </td><td>100     </td><td>0.072569</td><td>100     </td><td>-99     </td><td>0.605966</td><td>NA      </td></tr>\n",
       "\t<tr><td>0       </td><td>1       </td><td>0.241143</td><td>1       </td><td>10      </td><td>0.057309</td><td>10      </td><td>100     </td><td>0.070929</td><td>100     </td><td>-99     </td><td>0.630620</td><td>NA      </td></tr>\n",
       "\t<tr><td>0       </td><td>1       </td><td>0.214085</td><td>1       </td><td>10      </td><td>0.065289</td><td>10      </td><td>100     </td><td>0.085197</td><td>100     </td><td>-99     </td><td>0.635430</td><td>NA      </td></tr>\n",
       "</tbody>\n",
       "</table>\n"
      ],
      "text/latex": [
       "\\begin{tabular}{r|lllllllllllll}\n",
       " X1 & X2 & X3 & X4 & X5 & X6 & X7 & X8 & X9 & X10 & X11 & X12 & X13\\\\\n",
       "\\hline\n",
       "\t 0        & 1        & 0.228760 & 1        & 10       & 0.050160 & 10       & 100      & 0.061159 & 100      & -99      & 0.659921 & NA      \\\\\n",
       "\t 0        & 1        & 0.222626 & 1        & 10       & 0.092410 & 10       & 100      & 0.130629 & 100      & -99      & 0.554335 & NA      \\\\\n",
       "\t 0        & 1        & 0.245835 & 1        & 10       & 0.075784 & 10       & 100      & 0.099133 & 100      & -99      & 0.579248 & NA      \\\\\n",
       "\t 0        & 1        & 0.262262 & 1        & 10       & 0.059204 & 10       & 100      & 0.072569 & 100      & -99      & 0.605966 & NA      \\\\\n",
       "\t 0        & 1        & 0.241143 & 1        & 10       & 0.057309 & 10       & 100      & 0.070929 & 100      & -99      & 0.630620 & NA      \\\\\n",
       "\t 0        & 1        & 0.214085 & 1        & 10       & 0.065289 & 10       & 100      & 0.085197 & 100      & -99      & 0.635430 & NA      \\\\\n",
       "\\end{tabular}\n"
      ],
      "text/markdown": [
       "\n",
       "X1 | X2 | X3 | X4 | X5 | X6 | X7 | X8 | X9 | X10 | X11 | X12 | X13 | \n",
       "|---|---|---|---|---|---|\n",
       "| 0        | 1        | 0.228760 | 1        | 10       | 0.050160 | 10       | 100      | 0.061159 | 100      | -99      | 0.659921 | NA       | \n",
       "| 0        | 1        | 0.222626 | 1        | 10       | 0.092410 | 10       | 100      | 0.130629 | 100      | -99      | 0.554335 | NA       | \n",
       "| 0        | 1        | 0.245835 | 1        | 10       | 0.075784 | 10       | 100      | 0.099133 | 100      | -99      | 0.579248 | NA       | \n",
       "| 0        | 1        | 0.262262 | 1        | 10       | 0.059204 | 10       | 100      | 0.072569 | 100      | -99      | 0.605966 | NA       | \n",
       "| 0        | 1        | 0.241143 | 1        | 10       | 0.057309 | 10       | 100      | 0.070929 | 100      | -99      | 0.630620 | NA       | \n",
       "| 0        | 1        | 0.214085 | 1        | 10       | 0.065289 | 10       | 100      | 0.085197 | 100      | -99      | 0.635430 | NA       | \n",
       "\n",
       "\n"
      ],
      "text/plain": [
       "  X1 X2 X3       X4 X5 X6       X7 X8  X9       X10 X11 X12      X13\n",
       "1 0  1  0.228760 1  10 0.050160 10 100 0.061159 100 -99 0.659921 NA \n",
       "2 0  1  0.222626 1  10 0.092410 10 100 0.130629 100 -99 0.554335 NA \n",
       "3 0  1  0.245835 1  10 0.075784 10 100 0.099133 100 -99 0.579248 NA \n",
       "4 0  1  0.262262 1  10 0.059204 10 100 0.072569 100 -99 0.605966 NA \n",
       "5 0  1  0.241143 1  10 0.057309 10 100 0.070929 100 -99 0.630620 NA \n",
       "6 0  1  0.214085 1  10 0.065289 10 100 0.085197 100 -99 0.635430 NA "
      ]
     },
     "metadata": {},
     "output_type": "display_data"
    },
    {
     "data": {
      "text/html": [
       "<table>\n",
       "<thead><tr><th scope=col>X1</th><th scope=col>X2</th><th scope=col>X3</th><th scope=col>X4</th><th scope=col>X5</th><th scope=col>X6</th><th scope=col>X7</th><th scope=col>X8</th><th scope=col>X9</th><th scope=col>X10</th><th scope=col>X11</th><th scope=col>X12</th><th scope=col>X13</th></tr></thead>\n",
       "<tbody>\n",
       "\t<tr><td>0       </td><td>1       </td><td>0.271980</td><td>1       </td><td>10      </td><td>0.044931</td><td>10      </td><td>100     </td><td>0.052353</td><td>100     </td><td>-99     </td><td>0.630736</td><td>NA      </td></tr>\n",
       "\t<tr><td>0       </td><td>1       </td><td>0.268211</td><td>1       </td><td>10      </td><td>0.032727</td><td>10      </td><td>100     </td><td>0.036720</td><td>100     </td><td>-99     </td><td>0.662342</td><td>NA      </td></tr>\n",
       "\t<tr><td>0       </td><td>1       </td><td>0.250568</td><td>1       </td><td>10      </td><td>0.039183</td><td>10      </td><td>100     </td><td>0.045311</td><td>100     </td><td>-99     </td><td>0.664937</td><td>NA      </td></tr>\n",
       "\t<tr><td>0       </td><td>1       </td><td>0.268523</td><td>1       </td><td>10      </td><td>0.082616</td><td>10      </td><td>100     </td><td>0.108004</td><td>100     </td><td>-99     </td><td>0.540857</td><td>NA      </td></tr>\n",
       "\t<tr><td>0       </td><td>1       </td><td>0.238679</td><td>1       </td><td>10      </td><td>0.039237</td><td>10      </td><td>100     </td><td>0.045688</td><td>100     </td><td>-99     </td><td>0.676395</td><td>NA      </td></tr>\n",
       "\t<tr><td>0       </td><td>1       </td><td>0.254042</td><td>1       </td><td>10      </td><td>0.066294</td><td>10      </td><td>100     </td><td>0.083591</td><td>100     </td><td>-99     </td><td>0.596074</td><td>NA      </td></tr>\n",
       "</tbody>\n",
       "</table>\n"
      ],
      "text/latex": [
       "\\begin{tabular}{r|lllllllllllll}\n",
       " X1 & X2 & X3 & X4 & X5 & X6 & X7 & X8 & X9 & X10 & X11 & X12 & X13\\\\\n",
       "\\hline\n",
       "\t 0        & 1        & 0.271980 & 1        & 10       & 0.044931 & 10       & 100      & 0.052353 & 100      & -99      & 0.630736 & NA      \\\\\n",
       "\t 0        & 1        & 0.268211 & 1        & 10       & 0.032727 & 10       & 100      & 0.036720 & 100      & -99      & 0.662342 & NA      \\\\\n",
       "\t 0        & 1        & 0.250568 & 1        & 10       & 0.039183 & 10       & 100      & 0.045311 & 100      & -99      & 0.664937 & NA      \\\\\n",
       "\t 0        & 1        & 0.268523 & 1        & 10       & 0.082616 & 10       & 100      & 0.108004 & 100      & -99      & 0.540857 & NA      \\\\\n",
       "\t 0        & 1        & 0.238679 & 1        & 10       & 0.039237 & 10       & 100      & 0.045688 & 100      & -99      & 0.676395 & NA      \\\\\n",
       "\t 0        & 1        & 0.254042 & 1        & 10       & 0.066294 & 10       & 100      & 0.083591 & 100      & -99      & 0.596074 & NA      \\\\\n",
       "\\end{tabular}\n"
      ],
      "text/markdown": [
       "\n",
       "X1 | X2 | X3 | X4 | X5 | X6 | X7 | X8 | X9 | X10 | X11 | X12 | X13 | \n",
       "|---|---|---|---|---|---|\n",
       "| 0        | 1        | 0.271980 | 1        | 10       | 0.044931 | 10       | 100      | 0.052353 | 100      | -99      | 0.630736 | NA       | \n",
       "| 0        | 1        | 0.268211 | 1        | 10       | 0.032727 | 10       | 100      | 0.036720 | 100      | -99      | 0.662342 | NA       | \n",
       "| 0        | 1        | 0.250568 | 1        | 10       | 0.039183 | 10       | 100      | 0.045311 | 100      | -99      | 0.664937 | NA       | \n",
       "| 0        | 1        | 0.268523 | 1        | 10       | 0.082616 | 10       | 100      | 0.108004 | 100      | -99      | 0.540857 | NA       | \n",
       "| 0        | 1        | 0.238679 | 1        | 10       | 0.039237 | 10       | 100      | 0.045688 | 100      | -99      | 0.676395 | NA       | \n",
       "| 0        | 1        | 0.254042 | 1        | 10       | 0.066294 | 10       | 100      | 0.083591 | 100      | -99      | 0.596074 | NA       | \n",
       "\n",
       "\n"
      ],
      "text/plain": [
       "  X1 X2 X3       X4 X5 X6       X7 X8  X9       X10 X11 X12      X13\n",
       "1 0  1  0.271980 1  10 0.044931 10 100 0.052353 100 -99 0.630736 NA \n",
       "2 0  1  0.268211 1  10 0.032727 10 100 0.036720 100 -99 0.662342 NA \n",
       "3 0  1  0.250568 1  10 0.039183 10 100 0.045311 100 -99 0.664937 NA \n",
       "4 0  1  0.268523 1  10 0.082616 10 100 0.108004 100 -99 0.540857 NA \n",
       "5 0  1  0.238679 1  10 0.039237 10 100 0.045688 100 -99 0.676395 NA \n",
       "6 0  1  0.254042 1  10 0.066294 10 100 0.083591 100 -99 0.596074 NA "
      ]
     },
     "metadata": {},
     "output_type": "display_data"
    }
   ],
   "source": [
    "d_upper <- read_delim('dfe_outfile_upper_connectivity.csv', delim = ' ', col_names = FALSE);\n",
    "d_lower <- read_delim('dfe_outfile_lower_connectivity.csv', delim = ' ', col_names = FALSE);\n",
    "dim(d_upper); dim(d_lower);\n",
    "\n",
    "head(d_upper); head(d_lower)"
   ]
  },
  {
   "cell_type": "code",
   "execution_count": 35,
   "metadata": {},
   "outputs": [],
   "source": [
    "library(purrr)\n",
    "library(tidyr)"
   ]
  },
  {
   "cell_type": "code",
   "execution_count": 36,
   "metadata": {},
   "outputs": [],
   "source": [
    "dfe <- lapply(ls(pattern = 'd*r'), get)\n",
    "names(dfe) <- ls(pattern = 'd*r')"
   ]
  },
  {
   "cell_type": "code",
   "execution_count": 37,
   "metadata": {},
   "outputs": [
    {
     "data": {
      "text/html": [
       "<dl>\n",
       "\t<dt>$d_lower</dt>\n",
       "\t\t<dd><table>\n",
       "<thead><tr><th scope=col>X1</th><th scope=col>X2</th><th scope=col>X3</th><th scope=col>X4</th><th scope=col>X5</th><th scope=col>X6</th><th scope=col>X7</th><th scope=col>X8</th><th scope=col>X9</th><th scope=col>X10</th><th scope=col>X11</th><th scope=col>X12</th><th scope=col>X13</th></tr></thead>\n",
       "<tbody>\n",
       "\t<tr><td>0       </td><td>1       </td><td>0.271980</td><td>1       </td><td>10      </td><td>0.044931</td><td>10      </td><td>100     </td><td>0.052353</td><td>100     </td><td>-99     </td><td>0.630736</td><td>NA      </td></tr>\n",
       "\t<tr><td>0       </td><td>1       </td><td>0.268211</td><td>1       </td><td>10      </td><td>0.032727</td><td>10      </td><td>100     </td><td>0.036720</td><td>100     </td><td>-99     </td><td>0.662342</td><td>NA      </td></tr>\n",
       "\t<tr><td>0       </td><td>1       </td><td>0.250568</td><td>1       </td><td>10      </td><td>0.039183</td><td>10      </td><td>100     </td><td>0.045311</td><td>100     </td><td>-99     </td><td>0.664937</td><td>NA      </td></tr>\n",
       "\t<tr><td>0       </td><td>1       </td><td>0.268523</td><td>1       </td><td>10      </td><td>0.082616</td><td>10      </td><td>100     </td><td>0.108004</td><td>100     </td><td>-99     </td><td>0.540857</td><td>NA      </td></tr>\n",
       "\t<tr><td>0       </td><td>1       </td><td>0.238679</td><td>1       </td><td>10      </td><td>0.039237</td><td>10      </td><td>100     </td><td>0.045688</td><td>100     </td><td>-99     </td><td>0.676395</td><td>NA      </td></tr>\n",
       "\t<tr><td>0       </td><td>1       </td><td>0.254042</td><td>1       </td><td>10      </td><td>0.066294</td><td>10      </td><td>100     </td><td>0.083591</td><td>100     </td><td>-99     </td><td>0.596074</td><td>NA      </td></tr>\n",
       "</tbody>\n",
       "</table>\n",
       "</dd>\n",
       "\t<dt>$d_upper</dt>\n",
       "\t\t<dd><table>\n",
       "<thead><tr><th scope=col>X1</th><th scope=col>X2</th><th scope=col>X3</th><th scope=col>X4</th><th scope=col>X5</th><th scope=col>X6</th><th scope=col>X7</th><th scope=col>X8</th><th scope=col>X9</th><th scope=col>X10</th><th scope=col>X11</th><th scope=col>X12</th><th scope=col>X13</th></tr></thead>\n",
       "<tbody>\n",
       "\t<tr><td>0       </td><td>1       </td><td>0.228760</td><td>1       </td><td>10      </td><td>0.050160</td><td>10      </td><td>100     </td><td>0.061159</td><td>100     </td><td>-99     </td><td>0.659921</td><td>NA      </td></tr>\n",
       "\t<tr><td>0       </td><td>1       </td><td>0.222626</td><td>1       </td><td>10      </td><td>0.092410</td><td>10      </td><td>100     </td><td>0.130629</td><td>100     </td><td>-99     </td><td>0.554335</td><td>NA      </td></tr>\n",
       "\t<tr><td>0       </td><td>1       </td><td>0.245835</td><td>1       </td><td>10      </td><td>0.075784</td><td>10      </td><td>100     </td><td>0.099133</td><td>100     </td><td>-99     </td><td>0.579248</td><td>NA      </td></tr>\n",
       "\t<tr><td>0       </td><td>1       </td><td>0.262262</td><td>1       </td><td>10      </td><td>0.059204</td><td>10      </td><td>100     </td><td>0.072569</td><td>100     </td><td>-99     </td><td>0.605966</td><td>NA      </td></tr>\n",
       "\t<tr><td>0       </td><td>1       </td><td>0.241143</td><td>1       </td><td>10      </td><td>0.057309</td><td>10      </td><td>100     </td><td>0.070929</td><td>100     </td><td>-99     </td><td>0.630620</td><td>NA      </td></tr>\n",
       "\t<tr><td>0       </td><td>1       </td><td>0.214085</td><td>1       </td><td>10      </td><td>0.065289</td><td>10      </td><td>100     </td><td>0.085197</td><td>100     </td><td>-99     </td><td>0.635430</td><td>NA      </td></tr>\n",
       "</tbody>\n",
       "</table>\n",
       "</dd>\n",
       "</dl>\n"
      ],
      "text/latex": [
       "\\begin{description}\n",
       "\\item[\\$d\\_lower] \\begin{tabular}{r|lllllllllllll}\n",
       " X1 & X2 & X3 & X4 & X5 & X6 & X7 & X8 & X9 & X10 & X11 & X12 & X13\\\\\n",
       "\\hline\n",
       "\t 0        & 1        & 0.271980 & 1        & 10       & 0.044931 & 10       & 100      & 0.052353 & 100      & -99      & 0.630736 & NA      \\\\\n",
       "\t 0        & 1        & 0.268211 & 1        & 10       & 0.032727 & 10       & 100      & 0.036720 & 100      & -99      & 0.662342 & NA      \\\\\n",
       "\t 0        & 1        & 0.250568 & 1        & 10       & 0.039183 & 10       & 100      & 0.045311 & 100      & -99      & 0.664937 & NA      \\\\\n",
       "\t 0        & 1        & 0.268523 & 1        & 10       & 0.082616 & 10       & 100      & 0.108004 & 100      & -99      & 0.540857 & NA      \\\\\n",
       "\t 0        & 1        & 0.238679 & 1        & 10       & 0.039237 & 10       & 100      & 0.045688 & 100      & -99      & 0.676395 & NA      \\\\\n",
       "\t 0        & 1        & 0.254042 & 1        & 10       & 0.066294 & 10       & 100      & 0.083591 & 100      & -99      & 0.596074 & NA      \\\\\n",
       "\\end{tabular}\n",
       "\n",
       "\\item[\\$d\\_upper] \\begin{tabular}{r|lllllllllllll}\n",
       " X1 & X2 & X3 & X4 & X5 & X6 & X7 & X8 & X9 & X10 & X11 & X12 & X13\\\\\n",
       "\\hline\n",
       "\t 0        & 1        & 0.228760 & 1        & 10       & 0.050160 & 10       & 100      & 0.061159 & 100      & -99      & 0.659921 & NA      \\\\\n",
       "\t 0        & 1        & 0.222626 & 1        & 10       & 0.092410 & 10       & 100      & 0.130629 & 100      & -99      & 0.554335 & NA      \\\\\n",
       "\t 0        & 1        & 0.245835 & 1        & 10       & 0.075784 & 10       & 100      & 0.099133 & 100      & -99      & 0.579248 & NA      \\\\\n",
       "\t 0        & 1        & 0.262262 & 1        & 10       & 0.059204 & 10       & 100      & 0.072569 & 100      & -99      & 0.605966 & NA      \\\\\n",
       "\t 0        & 1        & 0.241143 & 1        & 10       & 0.057309 & 10       & 100      & 0.070929 & 100      & -99      & 0.630620 & NA      \\\\\n",
       "\t 0        & 1        & 0.214085 & 1        & 10       & 0.065289 & 10       & 100      & 0.085197 & 100      & -99      & 0.635430 & NA      \\\\\n",
       "\\end{tabular}\n",
       "\n",
       "\\end{description}\n"
      ],
      "text/markdown": [
       "$d_lower\n",
       ":   \n",
       "X1 | X2 | X3 | X4 | X5 | X6 | X7 | X8 | X9 | X10 | X11 | X12 | X13 | \n",
       "|---|---|---|---|---|---|\n",
       "| 0        | 1        | 0.271980 | 1        | 10       | 0.044931 | 10       | 100      | 0.052353 | 100      | -99      | 0.630736 | NA       | \n",
       "| 0        | 1        | 0.268211 | 1        | 10       | 0.032727 | 10       | 100      | 0.036720 | 100      | -99      | 0.662342 | NA       | \n",
       "| 0        | 1        | 0.250568 | 1        | 10       | 0.039183 | 10       | 100      | 0.045311 | 100      | -99      | 0.664937 | NA       | \n",
       "| 0        | 1        | 0.268523 | 1        | 10       | 0.082616 | 10       | 100      | 0.108004 | 100      | -99      | 0.540857 | NA       | \n",
       "| 0        | 1        | 0.238679 | 1        | 10       | 0.039237 | 10       | 100      | 0.045688 | 100      | -99      | 0.676395 | NA       | \n",
       "| 0        | 1        | 0.254042 | 1        | 10       | 0.066294 | 10       | 100      | 0.083591 | 100      | -99      | 0.596074 | NA       | \n",
       "\n",
       "\n",
       "\n",
       "$d_upper\n",
       ":   \n",
       "X1 | X2 | X3 | X4 | X5 | X6 | X7 | X8 | X9 | X10 | X11 | X12 | X13 | \n",
       "|---|---|---|---|---|---|\n",
       "| 0        | 1        | 0.228760 | 1        | 10       | 0.050160 | 10       | 100      | 0.061159 | 100      | -99      | 0.659921 | NA       | \n",
       "| 0        | 1        | 0.222626 | 1        | 10       | 0.092410 | 10       | 100      | 0.130629 | 100      | -99      | 0.554335 | NA       | \n",
       "| 0        | 1        | 0.245835 | 1        | 10       | 0.075784 | 10       | 100      | 0.099133 | 100      | -99      | 0.579248 | NA       | \n",
       "| 0        | 1        | 0.262262 | 1        | 10       | 0.059204 | 10       | 100      | 0.072569 | 100      | -99      | 0.605966 | NA       | \n",
       "| 0        | 1        | 0.241143 | 1        | 10       | 0.057309 | 10       | 100      | 0.070929 | 100      | -99      | 0.630620 | NA       | \n",
       "| 0        | 1        | 0.214085 | 1        | 10       | 0.065289 | 10       | 100      | 0.085197 | 100      | -99      | 0.635430 | NA       | \n",
       "\n",
       "\n",
       "\n",
       "\n",
       "\n"
      ],
      "text/plain": [
       "$d_lower\n",
       "# A tibble: 6 x 13\n",
       "     X1    X2       X3    X4    X5       X6    X7    X8       X9   X10   X11\n",
       "  <dbl> <dbl>    <dbl> <dbl> <dbl>    <dbl> <dbl> <dbl>    <dbl> <dbl> <dbl>\n",
       "1     0     1 0.271980     1    10 0.044931    10   100 0.052353   100   -99\n",
       "2     0     1 0.268211     1    10 0.032727    10   100 0.036720   100   -99\n",
       "3     0     1 0.250568     1    10 0.039183    10   100 0.045311   100   -99\n",
       "4     0     1 0.268523     1    10 0.082616    10   100 0.108004   100   -99\n",
       "5     0     1 0.238679     1    10 0.039237    10   100 0.045688   100   -99\n",
       "6     0     1 0.254042     1    10 0.066294    10   100 0.083591   100   -99\n",
       "# ... with 2 more variables: X12 <dbl>, X13 <chr>\n",
       "\n",
       "$d_upper\n",
       "# A tibble: 6 x 13\n",
       "     X1    X2       X3    X4    X5       X6    X7    X8       X9   X10   X11\n",
       "  <dbl> <dbl>    <dbl> <dbl> <dbl>    <dbl> <dbl> <dbl>    <dbl> <dbl> <dbl>\n",
       "1     0     1 0.228760     1    10 0.050160    10   100 0.061159   100   -99\n",
       "2     0     1 0.222626     1    10 0.092410    10   100 0.130629   100   -99\n",
       "3     0     1 0.245835     1    10 0.075784    10   100 0.099133   100   -99\n",
       "4     0     1 0.262262     1    10 0.059204    10   100 0.072569   100   -99\n",
       "5     0     1 0.241143     1    10 0.057309    10   100 0.070929   100   -99\n",
       "6     0     1 0.214085     1    10 0.065289    10   100 0.085197   100   -99\n",
       "# ... with 2 more variables: X12 <dbl>, X13 <chr>\n"
      ]
     },
     "metadata": {},
     "output_type": "display_data"
    }
   ],
   "source": [
    "lapply(dfe, function(df) head(df))"
   ]
  },
  {
   "cell_type": "code",
   "execution_count": 38,
   "metadata": {},
   "outputs": [
    {
     "data": {
      "text/html": [
       "<dl>\n",
       "\t<dt>$d_lower</dt>\n",
       "\t\t<dd><table>\n",
       "<thead><tr><th scope=col>group_1</th><th scope=col>group_2</th><th scope=col>group_3</th><th scope=col>group_4</th></tr></thead>\n",
       "<tbody>\n",
       "\t<tr><td>0.271980</td><td>0.044931</td><td>0.052353</td><td>0.630736</td></tr>\n",
       "\t<tr><td>0.268211</td><td>0.032727</td><td>0.036720</td><td>0.662342</td></tr>\n",
       "\t<tr><td>0.250568</td><td>0.039183</td><td>0.045311</td><td>0.664937</td></tr>\n",
       "\t<tr><td>0.268523</td><td>0.082616</td><td>0.108004</td><td>0.540857</td></tr>\n",
       "\t<tr><td>0.238679</td><td>0.039237</td><td>0.045688</td><td>0.676395</td></tr>\n",
       "\t<tr><td>0.254042</td><td>0.066294</td><td>0.083591</td><td>0.596074</td></tr>\n",
       "</tbody>\n",
       "</table>\n",
       "</dd>\n",
       "\t<dt>$d_upper</dt>\n",
       "\t\t<dd><table>\n",
       "<thead><tr><th scope=col>group_1</th><th scope=col>group_2</th><th scope=col>group_3</th><th scope=col>group_4</th></tr></thead>\n",
       "<tbody>\n",
       "\t<tr><td>0.228760</td><td>0.050160</td><td>0.061159</td><td>0.659921</td></tr>\n",
       "\t<tr><td>0.222626</td><td>0.092410</td><td>0.130629</td><td>0.554335</td></tr>\n",
       "\t<tr><td>0.245835</td><td>0.075784</td><td>0.099133</td><td>0.579248</td></tr>\n",
       "\t<tr><td>0.262262</td><td>0.059204</td><td>0.072569</td><td>0.605966</td></tr>\n",
       "\t<tr><td>0.241143</td><td>0.057309</td><td>0.070929</td><td>0.630620</td></tr>\n",
       "\t<tr><td>0.214085</td><td>0.065289</td><td>0.085197</td><td>0.635430</td></tr>\n",
       "</tbody>\n",
       "</table>\n",
       "</dd>\n",
       "</dl>\n"
      ],
      "text/latex": [
       "\\begin{description}\n",
       "\\item[\\$d\\_lower] \\begin{tabular}{r|llll}\n",
       " group\\_1 & group\\_2 & group\\_3 & group\\_4\\\\\n",
       "\\hline\n",
       "\t 0.271980 & 0.044931 & 0.052353 & 0.630736\\\\\n",
       "\t 0.268211 & 0.032727 & 0.036720 & 0.662342\\\\\n",
       "\t 0.250568 & 0.039183 & 0.045311 & 0.664937\\\\\n",
       "\t 0.268523 & 0.082616 & 0.108004 & 0.540857\\\\\n",
       "\t 0.238679 & 0.039237 & 0.045688 & 0.676395\\\\\n",
       "\t 0.254042 & 0.066294 & 0.083591 & 0.596074\\\\\n",
       "\\end{tabular}\n",
       "\n",
       "\\item[\\$d\\_upper] \\begin{tabular}{r|llll}\n",
       " group\\_1 & group\\_2 & group\\_3 & group\\_4\\\\\n",
       "\\hline\n",
       "\t 0.228760 & 0.050160 & 0.061159 & 0.659921\\\\\n",
       "\t 0.222626 & 0.092410 & 0.130629 & 0.554335\\\\\n",
       "\t 0.245835 & 0.075784 & 0.099133 & 0.579248\\\\\n",
       "\t 0.262262 & 0.059204 & 0.072569 & 0.605966\\\\\n",
       "\t 0.241143 & 0.057309 & 0.070929 & 0.630620\\\\\n",
       "\t 0.214085 & 0.065289 & 0.085197 & 0.635430\\\\\n",
       "\\end{tabular}\n",
       "\n",
       "\\end{description}\n"
      ],
      "text/markdown": [
       "$d_lower\n",
       ":   \n",
       "group_1 | group_2 | group_3 | group_4 | \n",
       "|---|---|---|---|---|---|\n",
       "| 0.271980 | 0.044931 | 0.052353 | 0.630736 | \n",
       "| 0.268211 | 0.032727 | 0.036720 | 0.662342 | \n",
       "| 0.250568 | 0.039183 | 0.045311 | 0.664937 | \n",
       "| 0.268523 | 0.082616 | 0.108004 | 0.540857 | \n",
       "| 0.238679 | 0.039237 | 0.045688 | 0.676395 | \n",
       "| 0.254042 | 0.066294 | 0.083591 | 0.596074 | \n",
       "\n",
       "\n",
       "\n",
       "$d_upper\n",
       ":   \n",
       "group_1 | group_2 | group_3 | group_4 | \n",
       "|---|---|---|---|---|---|\n",
       "| 0.228760 | 0.050160 | 0.061159 | 0.659921 | \n",
       "| 0.222626 | 0.092410 | 0.130629 | 0.554335 | \n",
       "| 0.245835 | 0.075784 | 0.099133 | 0.579248 | \n",
       "| 0.262262 | 0.059204 | 0.072569 | 0.605966 | \n",
       "| 0.241143 | 0.057309 | 0.070929 | 0.630620 | \n",
       "| 0.214085 | 0.065289 | 0.085197 | 0.635430 | \n",
       "\n",
       "\n",
       "\n",
       "\n",
       "\n"
      ],
      "text/plain": [
       "$d_lower\n",
       "# A tibble: 6 x 4\n",
       "   group_1  group_2  group_3  group_4\n",
       "     <dbl>    <dbl>    <dbl>    <dbl>\n",
       "1 0.271980 0.044931 0.052353 0.630736\n",
       "2 0.268211 0.032727 0.036720 0.662342\n",
       "3 0.250568 0.039183 0.045311 0.664937\n",
       "4 0.268523 0.082616 0.108004 0.540857\n",
       "5 0.238679 0.039237 0.045688 0.676395\n",
       "6 0.254042 0.066294 0.083591 0.596074\n",
       "\n",
       "$d_upper\n",
       "# A tibble: 6 x 4\n",
       "   group_1  group_2  group_3  group_4\n",
       "     <dbl>    <dbl>    <dbl>    <dbl>\n",
       "1 0.228760 0.050160 0.061159 0.659921\n",
       "2 0.222626 0.092410 0.130629 0.554335\n",
       "3 0.245835 0.075784 0.099133 0.579248\n",
       "4 0.262262 0.059204 0.072569 0.605966\n",
       "5 0.241143 0.057309 0.070929 0.630620\n",
       "6 0.214085 0.065289 0.085197 0.635430\n"
      ]
     },
     "metadata": {},
     "output_type": "display_data"
    }
   ],
   "source": [
    "dfe %<>% \n",
    "    lapply(function(df) select(df, group_1 = X3, group_2 = X6, group_3 = X9, group_4 = X12))\n",
    "        \n",
    "lapply(dfe, function(df) head(df))       "
   ]
  },
  {
   "cell_type": "code",
   "execution_count": 39,
   "metadata": {},
   "outputs": [
    {
     "data": {
      "text/html": [
       "<table>\n",
       "<thead><tr><th scope=col>group_1</th><th scope=col>group_2</th><th scope=col>group_3</th><th scope=col>group_4</th><th scope=col>group_11</th><th scope=col>group_21</th><th scope=col>group_31</th><th scope=col>group_41</th></tr></thead>\n",
       "<tbody>\n",
       "\t<tr><td>0.271980</td><td>0.044931</td><td>0.052353</td><td>0.630736</td><td>0.228760</td><td>0.050160</td><td>0.061159</td><td>0.659921</td></tr>\n",
       "\t<tr><td>0.268211</td><td>0.032727</td><td>0.036720</td><td>0.662342</td><td>0.222626</td><td>0.092410</td><td>0.130629</td><td>0.554335</td></tr>\n",
       "\t<tr><td>0.250568</td><td>0.039183</td><td>0.045311</td><td>0.664937</td><td>0.245835</td><td>0.075784</td><td>0.099133</td><td>0.579248</td></tr>\n",
       "\t<tr><td>0.268523</td><td>0.082616</td><td>0.108004</td><td>0.540857</td><td>0.262262</td><td>0.059204</td><td>0.072569</td><td>0.605966</td></tr>\n",
       "\t<tr><td>0.238679</td><td>0.039237</td><td>0.045688</td><td>0.676395</td><td>0.241143</td><td>0.057309</td><td>0.070929</td><td>0.630620</td></tr>\n",
       "\t<tr><td>0.254042</td><td>0.066294</td><td>0.083591</td><td>0.596074</td><td>0.214085</td><td>0.065289</td><td>0.085197</td><td>0.635430</td></tr>\n",
       "</tbody>\n",
       "</table>\n"
      ],
      "text/latex": [
       "\\begin{tabular}{r|llllllll}\n",
       " group\\_1 & group\\_2 & group\\_3 & group\\_4 & group\\_11 & group\\_21 & group\\_31 & group\\_41\\\\\n",
       "\\hline\n",
       "\t 0.271980 & 0.044931 & 0.052353 & 0.630736 & 0.228760 & 0.050160 & 0.061159 & 0.659921\\\\\n",
       "\t 0.268211 & 0.032727 & 0.036720 & 0.662342 & 0.222626 & 0.092410 & 0.130629 & 0.554335\\\\\n",
       "\t 0.250568 & 0.039183 & 0.045311 & 0.664937 & 0.245835 & 0.075784 & 0.099133 & 0.579248\\\\\n",
       "\t 0.268523 & 0.082616 & 0.108004 & 0.540857 & 0.262262 & 0.059204 & 0.072569 & 0.605966\\\\\n",
       "\t 0.238679 & 0.039237 & 0.045688 & 0.676395 & 0.241143 & 0.057309 & 0.070929 & 0.630620\\\\\n",
       "\t 0.254042 & 0.066294 & 0.083591 & 0.596074 & 0.214085 & 0.065289 & 0.085197 & 0.635430\\\\\n",
       "\\end{tabular}\n"
      ],
      "text/markdown": [
       "\n",
       "group_1 | group_2 | group_3 | group_4 | group_11 | group_21 | group_31 | group_41 | \n",
       "|---|---|---|---|---|---|\n",
       "| 0.271980 | 0.044931 | 0.052353 | 0.630736 | 0.228760 | 0.050160 | 0.061159 | 0.659921 | \n",
       "| 0.268211 | 0.032727 | 0.036720 | 0.662342 | 0.222626 | 0.092410 | 0.130629 | 0.554335 | \n",
       "| 0.250568 | 0.039183 | 0.045311 | 0.664937 | 0.245835 | 0.075784 | 0.099133 | 0.579248 | \n",
       "| 0.268523 | 0.082616 | 0.108004 | 0.540857 | 0.262262 | 0.059204 | 0.072569 | 0.605966 | \n",
       "| 0.238679 | 0.039237 | 0.045688 | 0.676395 | 0.241143 | 0.057309 | 0.070929 | 0.630620 | \n",
       "| 0.254042 | 0.066294 | 0.083591 | 0.596074 | 0.214085 | 0.065289 | 0.085197 | 0.635430 | \n",
       "\n",
       "\n"
      ],
      "text/plain": [
       "  group_1  group_2  group_3  group_4  group_11 group_21 group_31 group_41\n",
       "1 0.271980 0.044931 0.052353 0.630736 0.228760 0.050160 0.061159 0.659921\n",
       "2 0.268211 0.032727 0.036720 0.662342 0.222626 0.092410 0.130629 0.554335\n",
       "3 0.250568 0.039183 0.045311 0.664937 0.245835 0.075784 0.099133 0.579248\n",
       "4 0.268523 0.082616 0.108004 0.540857 0.262262 0.059204 0.072569 0.605966\n",
       "5 0.238679 0.039237 0.045688 0.676395 0.241143 0.057309 0.070929 0.630620\n",
       "6 0.254042 0.066294 0.083591 0.596074 0.214085 0.065289 0.085197 0.635430"
      ]
     },
     "metadata": {},
     "output_type": "display_data"
    }
   ],
   "source": [
    "dfe_full <- reduce(dfe, bind_cols)\n",
    "\n",
    "head(dfe_full)"
   ]
  },
  {
   "cell_type": "code",
   "execution_count": 40,
   "metadata": {},
   "outputs": [
    {
     "data": {
      "text/html": [
       "<table>\n",
       "<thead><tr><th scope=col>0-1 lower</th><th scope=col>1-10 lower</th><th scope=col>10-100 lower</th><th scope=col>100-infinity lower</th><th scope=col>0-1 upper</th><th scope=col>1-10 upper</th><th scope=col>10-100 upper</th><th scope=col>100-infinity upper</th></tr></thead>\n",
       "<tbody>\n",
       "\t<tr><td>0.271980</td><td>0.044931</td><td>0.052353</td><td>0.630736</td><td>0.228760</td><td>0.050160</td><td>0.061159</td><td>0.659921</td></tr>\n",
       "\t<tr><td>0.268211</td><td>0.032727</td><td>0.036720</td><td>0.662342</td><td>0.222626</td><td>0.092410</td><td>0.130629</td><td>0.554335</td></tr>\n",
       "\t<tr><td>0.250568</td><td>0.039183</td><td>0.045311</td><td>0.664937</td><td>0.245835</td><td>0.075784</td><td>0.099133</td><td>0.579248</td></tr>\n",
       "\t<tr><td>0.268523</td><td>0.082616</td><td>0.108004</td><td>0.540857</td><td>0.262262</td><td>0.059204</td><td>0.072569</td><td>0.605966</td></tr>\n",
       "\t<tr><td>0.238679</td><td>0.039237</td><td>0.045688</td><td>0.676395</td><td>0.241143</td><td>0.057309</td><td>0.070929</td><td>0.630620</td></tr>\n",
       "\t<tr><td>0.254042</td><td>0.066294</td><td>0.083591</td><td>0.596074</td><td>0.214085</td><td>0.065289</td><td>0.085197</td><td>0.635430</td></tr>\n",
       "</tbody>\n",
       "</table>\n"
      ],
      "text/latex": [
       "\\begin{tabular}{r|llllllll}\n",
       " 0-1 lower & 1-10 lower & 10-100 lower & 100-infinity lower & 0-1 upper & 1-10 upper & 10-100 upper & 100-infinity upper\\\\\n",
       "\\hline\n",
       "\t 0.271980 & 0.044931 & 0.052353 & 0.630736 & 0.228760 & 0.050160 & 0.061159 & 0.659921\\\\\n",
       "\t 0.268211 & 0.032727 & 0.036720 & 0.662342 & 0.222626 & 0.092410 & 0.130629 & 0.554335\\\\\n",
       "\t 0.250568 & 0.039183 & 0.045311 & 0.664937 & 0.245835 & 0.075784 & 0.099133 & 0.579248\\\\\n",
       "\t 0.268523 & 0.082616 & 0.108004 & 0.540857 & 0.262262 & 0.059204 & 0.072569 & 0.605966\\\\\n",
       "\t 0.238679 & 0.039237 & 0.045688 & 0.676395 & 0.241143 & 0.057309 & 0.070929 & 0.630620\\\\\n",
       "\t 0.254042 & 0.066294 & 0.083591 & 0.596074 & 0.214085 & 0.065289 & 0.085197 & 0.635430\\\\\n",
       "\\end{tabular}\n"
      ],
      "text/markdown": [
       "\n",
       "0-1 lower | 1-10 lower | 10-100 lower | 100-infinity lower | 0-1 upper | 1-10 upper | 10-100 upper | 100-infinity upper | \n",
       "|---|---|---|---|---|---|\n",
       "| 0.271980 | 0.044931 | 0.052353 | 0.630736 | 0.228760 | 0.050160 | 0.061159 | 0.659921 | \n",
       "| 0.268211 | 0.032727 | 0.036720 | 0.662342 | 0.222626 | 0.092410 | 0.130629 | 0.554335 | \n",
       "| 0.250568 | 0.039183 | 0.045311 | 0.664937 | 0.245835 | 0.075784 | 0.099133 | 0.579248 | \n",
       "| 0.268523 | 0.082616 | 0.108004 | 0.540857 | 0.262262 | 0.059204 | 0.072569 | 0.605966 | \n",
       "| 0.238679 | 0.039237 | 0.045688 | 0.676395 | 0.241143 | 0.057309 | 0.070929 | 0.630620 | \n",
       "| 0.254042 | 0.066294 | 0.083591 | 0.596074 | 0.214085 | 0.065289 | 0.085197 | 0.635430 | \n",
       "\n",
       "\n"
      ],
      "text/plain": [
       "  0-1 lower 1-10 lower 10-100 lower 100-infinity lower 0-1 upper 1-10 upper\n",
       "1 0.271980  0.044931   0.052353     0.630736           0.228760  0.050160  \n",
       "2 0.268211  0.032727   0.036720     0.662342           0.222626  0.092410  \n",
       "3 0.250568  0.039183   0.045311     0.664937           0.245835  0.075784  \n",
       "4 0.268523  0.082616   0.108004     0.540857           0.262262  0.059204  \n",
       "5 0.238679  0.039237   0.045688     0.676395           0.241143  0.057309  \n",
       "6 0.254042  0.066294   0.083591     0.596074           0.214085  0.065289  \n",
       "  10-100 upper 100-infinity upper\n",
       "1 0.061159     0.659921          \n",
       "2 0.130629     0.554335          \n",
       "3 0.099133     0.579248          \n",
       "4 0.072569     0.605966          \n",
       "5 0.070929     0.630620          \n",
       "6 0.085197     0.635430          "
      ]
     },
     "metadata": {},
     "output_type": "display_data"
    }
   ],
   "source": [
    "dfe_full %<>% rename('0-1 lower' = group_1, '1-10 lower' = group_2, '10-100 lower' = group_3, '100-infinity lower' = group_4,\n",
    "                    '0-1 upper' = group_11, '1-10 upper' = group_21, '10-100 upper' = group_31, '100-infinity upper' = group_41)\n",
    "\n",
    "head(dfe_full)"
   ]
  },
  {
   "cell_type": "code",
   "execution_count": 41,
   "metadata": {},
   "outputs": [
    {
     "data": {
      "text/html": [
       "<table>\n",
       "<thead><tr><th scope=col>group</th><th scope=col>value</th></tr></thead>\n",
       "<tbody>\n",
       "\t<tr><td>0-1 lower</td><td>0.271980 </td></tr>\n",
       "\t<tr><td>0-1 lower</td><td>0.268211 </td></tr>\n",
       "\t<tr><td>0-1 lower</td><td>0.250568 </td></tr>\n",
       "\t<tr><td>0-1 lower</td><td>0.268523 </td></tr>\n",
       "\t<tr><td>0-1 lower</td><td>0.238679 </td></tr>\n",
       "\t<tr><td>0-1 lower</td><td>0.254042 </td></tr>\n",
       "</tbody>\n",
       "</table>\n"
      ],
      "text/latex": [
       "\\begin{tabular}{r|ll}\n",
       " group & value\\\\\n",
       "\\hline\n",
       "\t 0-1 lower & 0.271980 \\\\\n",
       "\t 0-1 lower & 0.268211 \\\\\n",
       "\t 0-1 lower & 0.250568 \\\\\n",
       "\t 0-1 lower & 0.268523 \\\\\n",
       "\t 0-1 lower & 0.238679 \\\\\n",
       "\t 0-1 lower & 0.254042 \\\\\n",
       "\\end{tabular}\n"
      ],
      "text/markdown": [
       "\n",
       "group | value | \n",
       "|---|---|---|---|---|---|\n",
       "| 0-1 lower | 0.271980  | \n",
       "| 0-1 lower | 0.268211  | \n",
       "| 0-1 lower | 0.250568  | \n",
       "| 0-1 lower | 0.268523  | \n",
       "| 0-1 lower | 0.238679  | \n",
       "| 0-1 lower | 0.254042  | \n",
       "\n",
       "\n"
      ],
      "text/plain": [
       "  group     value   \n",
       "1 0-1 lower 0.271980\n",
       "2 0-1 lower 0.268211\n",
       "3 0-1 lower 0.250568\n",
       "4 0-1 lower 0.268523\n",
       "5 0-1 lower 0.238679\n",
       "6 0-1 lower 0.254042"
      ]
     },
     "metadata": {},
     "output_type": "display_data"
    }
   ],
   "source": [
    "dfe_full %<>%\n",
    "    gather(group, value)\n",
    "\n",
    "head(dfe_full)"
   ]
  },
  {
   "cell_type": "code",
   "execution_count": 42,
   "metadata": {},
   "outputs": [
    {
     "data": {
      "text/html": [
       "<table>\n",
       "<thead><tr><th scope=col>range</th><th scope=col>type_of</th><th scope=col>group_mean</th><th scope=col>group_sd</th><th scope=col>group_n</th><th scope=col>error</th><th scope=col>error_left</th><th scope=col>error_right</th></tr></thead>\n",
       "<tbody>\n",
       "\t<tr><td>0-1         </td><td>bottom 10%  </td><td>0.23916141  </td><td>0.02596494  </td><td>101         </td><td>0.005125805 </td><td>0.23403560  </td><td>0.24428721  </td></tr>\n",
       "\t<tr><td>0-1         </td><td>top 10%     </td><td>0.24119093  </td><td>0.01962876  </td><td>101         </td><td>0.003874964 </td><td>0.23731597  </td><td>0.24506589  </td></tr>\n",
       "\t<tr><td>1-10        </td><td>bottom 10%  </td><td>0.05004147  </td><td>0.01607480  </td><td>101         </td><td>0.003173367 </td><td>0.04686810  </td><td>0.05321483  </td></tr>\n",
       "\t<tr><td>1-10        </td><td>top 10%     </td><td>0.06387839  </td><td>0.01842867  </td><td>101         </td><td>0.003638051 </td><td>0.06024034  </td><td>0.06751644  </td></tr>\n",
       "\t<tr><td>10-100      </td><td>bottom 10%  </td><td>0.06190425  </td><td>0.02388715  </td><td>101         </td><td>0.004715623 </td><td>0.05718862  </td><td>0.06661987  </td></tr>\n",
       "\t<tr><td>10-100      </td><td>top 10%     </td><td>0.08245371  </td><td>0.02882691  </td><td>101         </td><td>0.005690793 </td><td>0.07676292  </td><td>0.08814451  </td></tr>\n",
       "\t<tr><td>100-infinity</td><td>bottom 10%  </td><td>0.64889298  </td><td>0.04170511  </td><td>101         </td><td>0.008233112 </td><td>0.64065987  </td><td>0.65712609  </td></tr>\n",
       "\t<tr><td>100-infinity</td><td>top 10%     </td><td>0.61247706  </td><td>0.04578275  </td><td>101         </td><td>0.009038090 </td><td>0.60343897  </td><td>0.62151515  </td></tr>\n",
       "</tbody>\n",
       "</table>\n"
      ],
      "text/latex": [
       "\\begin{tabular}{r|llllllll}\n",
       " range & type\\_of & group\\_mean & group\\_sd & group\\_n & error & error\\_left & error\\_right\\\\\n",
       "\\hline\n",
       "\t 0-1          & bottom 10\\% & 0.23916141   & 0.02596494   & 101          & 0.005125805  & 0.23403560   & 0.24428721  \\\\\n",
       "\t 0-1          & top 10\\%    & 0.24119093   & 0.01962876   & 101          & 0.003874964  & 0.23731597   & 0.24506589  \\\\\n",
       "\t 1-10         & bottom 10\\% & 0.05004147   & 0.01607480   & 101          & 0.003173367  & 0.04686810   & 0.05321483  \\\\\n",
       "\t 1-10         & top 10\\%    & 0.06387839   & 0.01842867   & 101          & 0.003638051  & 0.06024034   & 0.06751644  \\\\\n",
       "\t 10-100       & bottom 10\\% & 0.06190425   & 0.02388715   & 101          & 0.004715623  & 0.05718862   & 0.06661987  \\\\\n",
       "\t 10-100       & top 10\\%    & 0.08245371   & 0.02882691   & 101          & 0.005690793  & 0.07676292   & 0.08814451  \\\\\n",
       "\t 100-infinity & bottom 10\\% & 0.64889298   & 0.04170511   & 101          & 0.008233112  & 0.64065987   & 0.65712609  \\\\\n",
       "\t 100-infinity & top 10\\%    & 0.61247706   & 0.04578275   & 101          & 0.009038090  & 0.60343897   & 0.62151515  \\\\\n",
       "\\end{tabular}\n"
      ],
      "text/markdown": [
       "\n",
       "range | type_of | group_mean | group_sd | group_n | error | error_left | error_right | \n",
       "|---|---|---|---|---|---|---|---|\n",
       "| 0-1          | bottom 10%   | 0.23916141   | 0.02596494   | 101          | 0.005125805  | 0.23403560   | 0.24428721   | \n",
       "| 0-1          | top 10%      | 0.24119093   | 0.01962876   | 101          | 0.003874964  | 0.23731597   | 0.24506589   | \n",
       "| 1-10         | bottom 10%   | 0.05004147   | 0.01607480   | 101          | 0.003173367  | 0.04686810   | 0.05321483   | \n",
       "| 1-10         | top 10%      | 0.06387839   | 0.01842867   | 101          | 0.003638051  | 0.06024034   | 0.06751644   | \n",
       "| 10-100       | bottom 10%   | 0.06190425   | 0.02388715   | 101          | 0.004715623  | 0.05718862   | 0.06661987   | \n",
       "| 10-100       | top 10%      | 0.08245371   | 0.02882691   | 101          | 0.005690793  | 0.07676292   | 0.08814451   | \n",
       "| 100-infinity | bottom 10%   | 0.64889298   | 0.04170511   | 101          | 0.008233112  | 0.64065987   | 0.65712609   | \n",
       "| 100-infinity | top 10%      | 0.61247706   | 0.04578275   | 101          | 0.009038090  | 0.60343897   | 0.62151515   | \n",
       "\n",
       "\n"
      ],
      "text/plain": [
       "  range        type_of    group_mean group_sd   group_n error       error_left\n",
       "1 0-1          bottom 10% 0.23916141 0.02596494 101     0.005125805 0.23403560\n",
       "2 0-1          top 10%    0.24119093 0.01962876 101     0.003874964 0.23731597\n",
       "3 1-10         bottom 10% 0.05004147 0.01607480 101     0.003173367 0.04686810\n",
       "4 1-10         top 10%    0.06387839 0.01842867 101     0.003638051 0.06024034\n",
       "5 10-100       bottom 10% 0.06190425 0.02388715 101     0.004715623 0.05718862\n",
       "6 10-100       top 10%    0.08245371 0.02882691 101     0.005690793 0.07676292\n",
       "7 100-infinity bottom 10% 0.64889298 0.04170511 101     0.008233112 0.64065987\n",
       "8 100-infinity top 10%    0.61247706 0.04578275 101     0.009038090 0.60343897\n",
       "  error_right\n",
       "1 0.24428721 \n",
       "2 0.24506589 \n",
       "3 0.05321483 \n",
       "4 0.06751644 \n",
       "5 0.06661987 \n",
       "6 0.08814451 \n",
       "7 0.65712609 \n",
       "8 0.62151515 "
      ]
     },
     "metadata": {},
     "output_type": "display_data"
    }
   ],
   "source": [
    "dfe_full_cis <- dfe_full %>%\n",
    "    group_by(group) %>%\n",
    "    summarise(group_mean = mean(value), group_sd = sd(value), group_n = n()) %>%\n",
    "    mutate(error = qt(0.975, df = (group_n - 1)) * ((group_sd) / sqrt(group_n))) %>%\n",
    "    mutate(error_left = group_mean - error, error_right = group_mean + error) %>%\n",
    "    separate(group, c('range', 'type_of'), sep = ' ') %>%\n",
    "    mutate(type_of = case_when(type_of == 'lower' ~ 'bottom 10%', type_of == 'upper' ~ 'top 10%'))\n",
    "\n",
    "dfe_full_cis"
   ]
  },
  {
   "cell_type": "code",
   "execution_count": 43,
   "metadata": {},
   "outputs": [
    {
     "data": {
      "text/html": [
       "'0-1'"
      ],
      "text/latex": [
       "'0-1'"
      ],
      "text/markdown": [
       "'0-1'"
      ],
      "text/plain": [
       "[1] \"0-1\""
      ]
     },
     "metadata": {},
     "output_type": "display_data"
    }
   ],
   "source": [
    "dfe_full_cis$range[1]"
   ]
  },
  {
   "cell_type": "code",
   "execution_count": 44,
   "metadata": {},
   "outputs": [
    {
     "name": "stderr",
     "output_type": "stream",
     "text": [
      "Saving 6.67 x 6.67 in image\n"
     ]
    }
   ],
   "source": [
    "my.plot<-ggplot(dfe_full_cis, aes(x = factor(range), y = group_mean, fill = factor(type_of))) + \n",
    "geom_bar(stat = 'identity', position = 'dodge') +\n",
    "geom_errorbar(aes(ymin = error_left, ymax = error_right), position = position_dodge(0.9), width = 0.3, size = 0.8) +\n",
    "theme_linedraw() +\n",
    "# scale_fill_brewer(palette = 9, direction = 1) +\n",
    "scale_fill_manual(values=c(\"#a6a6a6\",\"#000399\")) +\n",
    "xlab(expression(paste(N[e], 's'))) +\n",
    "ylab('proportion of mutations') +\n",
    "theme(panel.grid.major = element_blank(), panel.grid.minor = element_line(),\n",
    "      axis.text = element_text(size = 14),\n",
    "      axis.title = element_text(size = 14)) +\n",
    "theme(legend.position = c(0.85, 0.92)) +\n",
    "guides(fill = guide_legend(title = expression(paste(\"Measure: degree\")))) +\n",
    "coord_cartesian(y = c(0, 1))\n",
    "ggsave(plot=my.plot, \"./degree_props.png\")"
   ]
  },
  {
   "cell_type": "code",
   "execution_count": 45,
   "metadata": {},
   "outputs": [
    {
     "data": {},
     "metadata": {},
     "output_type": "display_data"
    },
    {
     "data": {
      "image/png": "[encoded data removed]",
      "text/plain": [
       "plot without title"
      ]
     },
     "metadata": {},
     "output_type": "display_data",
     "source": "R display func"
    }
   ],
   "source": [
    "my.plot"
   ]
  },
  {
   "cell_type": "code",
   "execution_count": null,
   "metadata": {},
   "outputs": [],
   "source": []
  },
  {
   "cell_type": "code",
   "execution_count": null,
   "metadata": {},
   "outputs": [],
   "source": []
  },
  {
   "cell_type": "code",
   "execution_count": null,
   "metadata": {},
   "outputs": [],
   "source": []
  },
  {
   "cell_type": "markdown",
   "metadata": {},
   "source": [
    "from https://www.cyclismo.org/tutorial/R/confidence.html\n",
    "\n",
    "> mean <- 5\n",
    "> sd <- 2\n",
    "> sample size <- 20\n",
    "> error <- qt(0.975,df=n-1)*s/sqrt(n)\n",
    "> left <- a-error\n",
    "> right <- a+error\n",
    "> left\n",
    "[1] 4.063971\n",
    "> right\n",
    "[1] 5.936029"
   ]
  },
  {
   "cell_type": "code",
   "execution_count": null,
   "metadata": {},
   "outputs": [],
   "source": []
  }
 ],
 "metadata": {
  "kernelspec": {
   "display_name": "R",
   "language": "R",
   "name": "ir"
  },
  "language_info": {
   "codemirror_mode": "r",
   "file_extension": ".r",
   "mimetype": "text/x-r-source",
   "name": "R",
   "pygments_lexer": "r",
   "version": "3.4.1"
  }
 },
 "nbformat": 4,
 "nbformat_minor": 2
}
